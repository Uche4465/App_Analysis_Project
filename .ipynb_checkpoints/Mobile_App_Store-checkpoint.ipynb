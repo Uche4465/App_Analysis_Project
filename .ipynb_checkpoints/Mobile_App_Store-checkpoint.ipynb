{
 "cells": [
  {
   "cell_type": "markdown",
   "metadata": {},
   "source": [
    "***\n",
    "# Determining the Most Profitable App Profiles for the App Store and Google Play Markets\n",
    "***"
   ]
  },
  {
   "cell_type": "markdown",
   "metadata": {},
   "source": [
    "## Table of contents <a name=\"begin\"></a>\n",
    "### 1. [Introduction](#introduction)\n",
    "* [About The Project](#about)\n",
    "* [Project Goal](#goal)\n",
    "\n",
    "### 2. [Opening Data](#open)\n",
    "\n",
    "\n",
    "### 3. [Exploring Data](#explore)\n",
    "\n",
    "\n",
    "### 4. [Data Cleaning](#clean)\n",
    "* [Checking and deleting rows that do not have complete entries for both dataset](#delete)\n",
    "* [Removing Non-English Apps](#remove)\n",
    "* [Isolating the Free Apps on English App Dataset](#isolate)\n",
    "\n",
    "\n",
    "### 5. [Data Analysis](#analysis)\n",
    "* [Determining the most common genres in each market](#common)\n",
    "* [Most Popular Apps by Genre on the Apple Store](#apple)\n",
    "* [Most Popular Apps by Genre on the Google Play Store](#google)\n",
    "\n",
    "\n",
    "### 6. [ Conclusions](#conclusion)\n",
    "\n",
    "\n",
    "### 7. [Limitations](#limitation)"
   ]
  },
  {
   "cell_type": "markdown",
   "metadata": {},
   "source": [
    "***\n",
    "***\n",
    "## Introduction <a name=\"introduction\"></a> "
   ]
  },
  {
   "cell_type": "markdown",
   "metadata": {
    "ExecuteTime": {
     "end_time": "2023-07-15T03:48:33.766255Z",
     "start_time": "2023-07-15T03:48:33.753791Z"
    },
    "collapsed": true
   },
   "source": [
    "#### About The Project  <a name=\"about\"></a>\n",
    "This Project is for a company that builds free Android and iOS mobile apps and has made their apps available on Google Play and in the App Store. Our main source of revenue consists of in-app ads.\n",
    "This means that the number of users of our apps determines our revenue for any given app. The more users who see and engage with the ads, the better.\n",
    "\n",
    "#### Project Goal <a name=\"goal\"></a>\n",
    "The goal for this project is to analyze data to help our developers\n",
    "understand what type of apps is likely to attract more users."
   ]
  },
  {
   "cell_type": "markdown",
   "metadata": {},
   "source": [
    "***\n",
    "***\n",
    "## Opening Data <a name=\"open\"></a>"
   ]
  },
  {
   "cell_type": "code",
   "execution_count": 355,
   "metadata": {
    "ExecuteTime": {
     "end_time": "2023-07-31T05:18:26.564358Z",
     "start_time": "2023-07-31T05:18:24.961697Z"
    }
   },
   "outputs": [],
   "source": [
    "open_file=open(\"AppleStore.csv\")\n",
    "from csv import reader\n",
    "read_file=reader(open_file)\n",
    "apple_data=list(read_file)\n",
    "\n",
    "print(apple_data)"
   ]
  },
  {
   "cell_type": "code",
   "execution_count": 356,
   "metadata": {
    "ExecuteTime": {
     "end_time": "2023-07-31T05:18:38.504808Z",
     "start_time": "2023-07-31T05:18:38.277923Z"
    }
   },
   "outputs": [],
   "source": [
    "# Opening AppleStore.csv and GooglePlayStore.csv\n",
    "\n",
    "open_file1=open(\"AppleStore.csv\")\n",
    "open_file2=open(\"googleplaystore.csv\")\n",
    "from csv import reader\n",
    "read_file1=reader(open_file1)\n",
    "read_file2=reader(open_file2)\n",
    "\n",
    "# Converting file to list of list\n",
    "app_store_data=list(read_file1)\n",
    "google_store_data=list(read_file2)\n",
    "\n"
   ]
  },
  {
   "cell_type": "markdown",
   "metadata": {},
   "source": [
    "***\n",
    "***\n",
    "## Exploring the Data <a name=\"explore\"></a>\n"
   ]
  },
  {
   "cell_type": "code",
   "execution_count": 48,
   "metadata": {},
   "outputs": [],
   "source": [
    "# Creating an explore_data() function\n",
    "\n",
    "def explore_data(dataset, start, end, rows_and_columns=False):\n",
    "    dataset_slice=dataset[start:end]\n",
    "    for row in dataset_slice:\n",
    "        print(row)\n",
    "        print('\\n') # this would add a newline for easy readability\n",
    "    if rows_and_columns:\n",
    "        print('Number of rows: ', len(dataset[1:]))\n",
    "        print('Number of columns: ', len(dataset[0]))"
   ]
  },
  {
   "cell_type": "code",
   "execution_count": 49,
   "metadata": {},
   "outputs": [
    {
     "name": "stdout",
     "output_type": "stream",
     "text": [
      "['id', 'track_name', 'size_bytes', 'currency', 'price', 'rating_count_tot', 'rating_count_ver', 'user_rating', 'user_rating_ver', 'ver', 'cont_rating', 'prime_genre', 'sup_devices.num', 'ipadSc_urls.num', 'lang.num', 'vpp_lic']\n",
      "\n",
      "\n",
      "['284882215', 'Facebook', '389879808', 'USD', '0.0', '2974676', '212', '3.5', '3.5', '95.0', '4+', 'Social Networking', '37', '1', '29', '1']\n",
      "\n",
      "\n",
      "['389801252', 'Instagram', '113954816', 'USD', '0.0', '2161558', '1289', '4.5', '4.0', '10.23', '12+', 'Photo & Video', '37', '0', '29', '1']\n",
      "\n",
      "\n",
      "['529479190', 'Clash of Clans', '116476928', 'USD', '0.0', '2130805', '579', '4.5', '4.5', '9.24.12', '9+', 'Games', '38', '5', '18', '1']\n",
      "\n",
      "\n",
      "['420009108', 'Temple Run', '65921024', 'USD', '0.0', '1724546', '3842', '4.5', '4.0', '1.6.2', '9+', 'Games', '40', '5', '1', '1']\n",
      "\n",
      "\n",
      "Number of rows:  7197\n",
      "Number of columns:  16\n"
     ]
    }
   ],
   "source": [
    "# Exploring data for AppleStore Data\n",
    "\n",
    "explor_app_data= explore_data(app_store_data,0,5,rows_and_columns=True)\n"
   ]
  },
  {
   "cell_type": "code",
   "execution_count": 50,
   "metadata": {},
   "outputs": [
    {
     "name": "stdout",
     "output_type": "stream",
     "text": [
      "['App', 'Category', 'Rating', 'Reviews', 'Size', 'Installs', 'Type', 'Price', 'Content Rating', 'Genres', 'Last Updated', 'Current Ver', 'Android Ver']\n",
      "\n",
      "\n",
      "['Photo Editor & Candy Camera & Grid & ScrapBook', 'ART_AND_DESIGN', '4.1', '159', '19M', '10,000+', 'Free', '0', 'Everyone', 'Art & Design', 'January 7, 2018', '1.0.0', '4.0.3 and up']\n",
      "\n",
      "\n",
      "['Coloring book moana', 'ART_AND_DESIGN', '3.9', '967', '14M', '500,000+', 'Free', '0', 'Everyone', 'Art & Design;Pretend Play', 'January 15, 2018', '2.0.0', '4.0.3 and up']\n",
      "\n",
      "\n",
      "['U Launcher Lite – FREE Live Cool Themes, Hide Apps', 'ART_AND_DESIGN', '4.7', '87510', '8.7M', '5,000,000+', 'Free', '0', 'Everyone', 'Art & Design', 'August 1, 2018', '1.2.4', '4.0.3 and up']\n",
      "\n",
      "\n",
      "['Sketch - Draw & Paint', 'ART_AND_DESIGN', '4.5', '215644', '25M', '50,000,000+', 'Free', '0', 'Teen', 'Art & Design', 'June 8, 2018', 'Varies with device', '4.2 and up']\n",
      "\n",
      "\n",
      "Number of rows:  10841\n",
      "Number of columns:  13\n"
     ]
    }
   ],
   "source": [
    "# Exploring data for GoogleStore Data\n",
    "\n",
    "explor_goog_data= explore_data(google_store_data,0,5,rows_and_columns=True)"
   ]
  },
  {
   "cell_type": "markdown",
   "metadata": {},
   "source": [
    "## Data Cleaning <a name=\"clean\"></a>"
   ]
  },
  {
   "cell_type": "markdown",
   "metadata": {},
   "source": [
    "### Checking and deleting rows that do not have complete entries for both dataset <a name=\"delete\"></a>"
   ]
  },
  {
   "cell_type": "code",
   "execution_count": 8,
   "metadata": {},
   "outputs": [
    {
     "name": "stdout",
     "output_type": "stream",
     "text": [
      "['id', 'track_name', 'size_bytes', 'currency', 'price', 'rating_count_tot', 'rating_count_ver', 'user_rating', 'user_rating_ver', 'ver', 'cont_rating', 'prime_genre', 'sup_devices.num', 'ipadSc_urls.num', 'lang.num', 'vpp_lic']\n",
      "\n",
      "\n",
      "['App', 'Category', 'Rating', 'Reviews', 'Size', 'Installs', 'Type', 'Price', 'Content Rating', 'Genres', 'Last Updated', 'Current Ver', 'Android Ver']\n",
      "\n",
      "\n"
     ]
    }
   ],
   "source": [
    "# Printing only the column names, to identify the columns that would help us in our analysis on both dataset\n",
    "\n",
    "explor_app_data= explore_data(app_store_data,0,1)\n",
    "explor_goog_data= explore_data(google_store_data,0,1)"
   ]
  },
  {
   "cell_type": "code",
   "execution_count": 51,
   "metadata": {
    "ExecuteTime": {
     "end_time": "2023-07-18T11:27:59.887271Z",
     "start_time": "2023-07-18T11:27:59.869731Z"
    }
   },
   "outputs": [],
   "source": [
    "# To check if the dataset rows have the same number of columns in header.\n",
    "\n",
    "\n",
    "def num_of_columns(dataset):\n",
    "    for row in dataset:\n",
    "        if len(row)!= len(dataset[0]):\n",
    "            print(row)\n",
    "            print(\"\\n\")\n",
    "            print(\"Index position is:\", dataset.index(row))\n",
    "        "
   ]
  },
  {
   "cell_type": "code",
   "execution_count": 52,
   "metadata": {
    "ExecuteTime": {
     "end_time": "2023-07-18T11:28:05.581731Z",
     "start_time": "2023-07-18T11:28:05.522815Z"
    }
   },
   "outputs": [
    {
     "name": "stdout",
     "output_type": "stream",
     "text": [
      "None\n"
     ]
    }
   ],
   "source": [
    "# using number of column checker function on Apple Store data\n",
    "print(num_of_columns(app_store_data))"
   ]
  },
  {
   "cell_type": "code",
   "execution_count": 11,
   "metadata": {
    "scrolled": false
   },
   "outputs": [
    {
     "name": "stdout",
     "output_type": "stream",
     "text": [
      "['Life Made WI-Fi Touchscreen Photo Frame', '1.9', '19', '3.0M', '1,000+', 'Free', '0', 'Everyone', '', 'February 11, 2018', '1.0.19', '4.0 and up']\n",
      "\n",
      "\n",
      "Index position is: 10473\n",
      "None\n"
     ]
    }
   ],
   "source": [
    "# using number of column checker function on Google store data\n",
    "print(num_of_columns(google_store_data))"
   ]
  },
  {
   "cell_type": "code",
   "execution_count": 358,
   "metadata": {
    "ExecuteTime": {
     "end_time": "2023-07-31T05:24:57.945215Z",
     "start_time": "2023-07-31T05:24:57.935379Z"
    }
   },
   "outputs": [],
   "source": [
    "# deleting wrong data on google store data with index 10473\n",
    "del google_store_data[10473]"
   ]
  },
  {
   "cell_type": "code",
   "execution_count": 65,
   "metadata": {
    "ExecuteTime": {
     "end_time": "2023-07-18T11:33:39.316541Z",
     "start_time": "2023-07-18T11:33:39.271515Z"
    }
   },
   "outputs": [
    {
     "name": "stdout",
     "output_type": "stream",
     "text": [
      "None\n"
     ]
    }
   ],
   "source": [
    "# Re-running the earlier column checker function to Check if there is still an incomplete-column row.\n",
    "# Using number of column checker function on Google store data\n",
    "print(num_of_columns(google_store_data))"
   ]
  },
  {
   "cell_type": "markdown",
   "metadata": {},
   "source": [
    "##### Checking and deleting duplicated rows for both dataset"
   ]
  },
  {
   "cell_type": "code",
   "execution_count": 68,
   "metadata": {
    "ExecuteTime": {
     "end_time": "2023-07-18T11:24:29.408461Z",
     "start_time": "2023-07-18T11:24:29.380322Z"
    }
   },
   "outputs": [],
   "source": [
    "# Creating duplicate-checker function with 3 attributes:\n",
    "# Dataset, column index of app name, and the app to be checked.\n",
    "\n",
    "def dupli_checker(dataset,column_index_of_app_name,name):\n",
    "    for app in dataset[1:]:\n",
    "        app_name = app[column_index_of_app_name]\n",
    "        list_of_duplicates=[]\n",
    "        if app_name == name:\n",
    "            list_of_duplicates.append(app)\n",
    "            print(list_of_duplicates)\n",
    "            print('\\n')\n",
    "            "
   ]
  },
  {
   "cell_type": "code",
   "execution_count": 69,
   "metadata": {
    "ExecuteTime": {
     "end_time": "2023-07-18T11:24:43.200073Z",
     "start_time": "2023-07-18T11:24:43.074054Z"
    }
   },
   "outputs": [
    {
     "name": "stdout",
     "output_type": "stream",
     "text": [
      "[['Twitter', 'NEWS_AND_MAGAZINES', '4.3', '11667403', 'Varies with device', '500,000,000+', 'Free', '0', 'Mature 17+', 'News & Magazines', 'August 6, 2018', 'Varies with device', 'Varies with device']]\n",
      "\n",
      "\n",
      "[['Twitter', 'NEWS_AND_MAGAZINES', '4.3', '11667403', 'Varies with device', '500,000,000+', 'Free', '0', 'Mature 17+', 'News & Magazines', 'August 6, 2018', 'Varies with device', 'Varies with device']]\n",
      "\n",
      "\n",
      "[['Twitter', 'NEWS_AND_MAGAZINES', '4.3', '11657972', 'Varies with device', '500,000,000+', 'Free', '0', 'Mature 17+', 'News & Magazines', 'July 30, 2018', 'Varies with device', 'Varies with device']]\n",
      "\n",
      "\n"
     ]
    }
   ],
   "source": [
    "# checking duplicate for Google store data, using the dupliChecker function \n",
    "# app name falls on index 0 ('App')\n",
    "\n",
    "dupli_checker(google_store_data,0,'Twitter')"
   ]
  },
  {
   "cell_type": "code",
   "execution_count": 117,
   "metadata": {
    "ExecuteTime": {
     "end_time": "2023-07-18T11:24:52.771153Z",
     "start_time": "2023-07-18T11:24:52.580745Z"
    }
   },
   "outputs": [
    {
     "name": "stdout",
     "output_type": "stream",
     "text": [
      "[['333903271', 'Twitter', '210569216', 'USD', '0.0', '354058', '452', '3.5', '4.0', '6.79.1', '17+', 'News', '37', '2', '33', '1']]\n",
      "\n",
      "\n"
     ]
    }
   ],
   "source": [
    "# checking duplicate for Apple Store data, using the dupliChecker function\n",
    "# app name falls on index 1 ('track_name')\n",
    "\n",
    "dupli_checker(app_store_data,1,'Twitter')"
   ]
  },
  {
   "cell_type": "markdown",
   "metadata": {},
   "source": [
    "***\n",
    "\n",
    "From the above, we could spot duplications of apps on Google Store Data. \n",
    "\n",
    "***"
   ]
  },
  {
   "cell_type": "markdown",
   "metadata": {},
   "source": [
    "##### To find the number of duplicated apps and displaying samples of the duplicated app on each dataset."
   ]
  },
  {
   "cell_type": "code",
   "execution_count": 99,
   "metadata": {
    "ExecuteTime": {
     "end_time": "2023-07-18T11:33:04.486769Z",
     "start_time": "2023-07-18T11:33:04.443627Z"
    }
   },
   "outputs": [],
   "source": [
    "# created a function to show number of duplicated rows and the first 15 examples from the dataset.\n",
    "def number_of_dupli(dataset,column_index_of_app_name):\n",
    "    duplicate_apps=[]\n",
    "    unique_apps=[]\n",
    "\n",
    "    for app in dataset[1:]:\n",
    "        app_name=app[column_index_of_app_name]\n",
    "        if app_name in unique_apps:\n",
    "            duplicate_apps.append(app_name)\n",
    "        else:\n",
    "            unique_apps.append(app_name)\n",
    "\n",
    "    print('Number of duplicated apps on : ', len(duplicate_apps))\n",
    "    print('\\n')\n",
    "    print('Examples of duplicated apps on : ', duplicate_apps[:15])\n",
    "    expect_length = len(dataset[1:]) - len(duplicate_apps)\n",
    "    print('\\n')\n",
    "    print('Expected lenght of unique data is ', expect_length)\n",
    "    print(len(unique_apps))"
   ]
  },
  {
   "cell_type": "code",
   "execution_count": 100,
   "metadata": {},
   "outputs": [
    {
     "name": "stdout",
     "output_type": "stream",
     "text": [
      "Number of duplicated apps on :  1181\n",
      "\n",
      "\n",
      "Examples of duplicated apps on :  ['Quick PDF Scanner + OCR FREE', 'Box', 'Google My Business', 'ZOOM Cloud Meetings', 'join.me - Simple Meetings', 'Box', 'Zenefits', 'Google Ads', 'Google My Business', 'Slack', 'FreshBooks Classic', 'Insightly CRM', 'QuickBooks Accounting: Invoicing & Expenses', 'HipChat - Chat Built for Teams', 'Xero Accounting Software']\n",
      "\n",
      "\n",
      "Expected lenght of unique data is  9659\n",
      "9659\n"
     ]
    }
   ],
   "source": [
    "# checking number of duplicated apps on Google store data, using the number_of_dupli function \n",
    "# app name falls on index 0 ('App')\n",
    "\n",
    "number_of_dupli(google_store_data,0)\n"
   ]
  },
  {
   "cell_type": "code",
   "execution_count": 116,
   "metadata": {},
   "outputs": [
    {
     "name": "stdout",
     "output_type": "stream",
     "text": [
      "Number of duplicated apps on :  0\n",
      "\n",
      "\n",
      "Examples of duplicated apps on :  []\n",
      "\n",
      "\n",
      "Expected lenght of unique data is  7197\n",
      "7197\n"
     ]
    }
   ],
   "source": [
    "# checking number of duplicated apps on Apple Store data, using the number_of_dupli function\n",
    "# using the id instead of track_name. this is because every app on apple store has a unique id number.\n",
    "# the app id falls on index 0 ('id')\n",
    "\n",
    "number_of_dupli(app_store_data,0)\n"
   ]
  },
  {
   "cell_type": "markdown",
   "metadata": {},
   "source": [
    "***\n",
    "From the ouput, we notice that apple store data has no duplicate row.\n",
    "While google play store data has 1181 duplicate rows.\n",
    "\n",
    "We proceed to further removing the duplicate rows in google play store, so each row will represent a unique app data. \n",
    "***"
   ]
  },
  {
   "cell_type": "markdown",
   "metadata": {},
   "source": [
    "#### For Google Play Store Data"
   ]
  },
  {
   "cell_type": "markdown",
   "metadata": {},
   "source": [
    "##### Create a dictionary, where each dictionary key is a unique app name and the corresponding dictionary value is the highest number of reviews of that app.\n",
    "##### Use the information stored in the dictionary and create a new dataset, which will have only one entry per app (and for each app, we'll only select the entry with the highest number of reviews)."
   ]
  },
  {
   "cell_type": "code",
   "execution_count": 361,
   "metadata": {
    "ExecuteTime": {
     "end_time": "2023-07-31T05:28:24.121377Z",
     "start_time": "2023-07-31T05:28:23.924643Z"
    }
   },
   "outputs": [
    {
     "name": "stdout",
     "output_type": "stream",
     "text": [
      "\n",
      "\n",
      "The lenght of unique apps in the review_max dictionary is  9659\n",
      "\n",
      "\n"
     ]
    }
   ],
   "source": [
    "# creating dictionary for Google store data\n",
    "\n",
    "reviews_max= {}\n",
    "    \n",
    "for app in google_store_data[1:]:\n",
    "    app_name = app[0]\n",
    "    n_reviews = float(app[3])\n",
    "        \n",
    "    if app_name in reviews_max and reviews_max[app_name]  < n_reviews:\n",
    "        reviews_max[app_name] = n_reviews\n",
    "            \n",
    "    elif app_name not in reviews_max:\n",
    "        reviews_max[app_name] = n_reviews\n",
    "    \n",
    "print('\\n')\n",
    "print('The lenght of unique apps in the review_max dictionary is ',len(reviews_max))\n",
    "print('\\n')\n",
    "\n",
    "    "
   ]
  },
  {
   "cell_type": "markdown",
   "metadata": {},
   "source": [
    "***\n",
    "By observation, we noticed that the length of the unique apps in the review_max dictionary (9659) is equal to the expected lenght for new dataset we calculated earlier when subtracting the duplicated app lenght (1181) from the lenght of the Google App Store dataset excluding the header row (10840).\n",
    "***\n"
   ]
  },
  {
   "cell_type": "markdown",
   "metadata": {},
   "source": [
    "##### Using the dictionary above to remove the duplicate rows from google_store_data "
   ]
  },
  {
   "cell_type": "code",
   "execution_count": 160,
   "metadata": {},
   "outputs": [
    {
     "name": "stdout",
     "output_type": "stream",
     "text": [
      "The total number of rows in cleaned Google Data is 9659\n",
      "\n",
      "\n",
      "['Photo Editor & Candy Camera & Grid & ScrapBook', 'ART_AND_DESIGN', '4.1', '159', '19M', '10,000+', 'Free', '0', 'Everyone', 'Art & Design', 'January 7, 2018', '1.0.0', '4.0.3 and up']\n",
      "\n",
      "\n",
      "['U Launcher Lite – FREE Live Cool Themes, Hide Apps', 'ART_AND_DESIGN', '4.7', '87510', '8.7M', '5,000,000+', 'Free', '0', 'Everyone', 'Art & Design', 'August 1, 2018', '1.2.4', '4.0.3 and up']\n",
      "\n",
      "\n",
      "['Sketch - Draw & Paint', 'ART_AND_DESIGN', '4.5', '215644', '25M', '50,000,000+', 'Free', '0', 'Teen', 'Art & Design', 'June 8, 2018', 'Varies with device', '4.2 and up']\n",
      "\n",
      "\n",
      "Number of rows:  9658\n",
      "Number of columns:  13\n"
     ]
    }
   ],
   "source": [
    "google_data_clean=[]\n",
    "already_added=[]\n",
    "\n",
    "for row in google_store_data[1:]:\n",
    "    app_name=row[0]\n",
    "    n_reviews=float(row[3])\n",
    "    \n",
    "    if (n_reviews == reviews_max[app_name]) and (app_name not in already_added):\n",
    "        google_data_clean.append(row)\n",
    "        already_added.append(app_name)\n",
    "        \n",
    "print('The total number of rows in cleaned Google Data is',len(google_data_clean))\n",
    "print('\\n')\n",
    "explore_data(google_data_clean, 0, 3, True)\n",
    "\n",
    "        "
   ]
  },
  {
   "cell_type": "markdown",
   "metadata": {},
   "source": [
    "***\n",
    "From the output, we observed that the new google_clean data lenght of '9659' meets the expected number of rows when duplicate rows are removed from the google_store dataset.\n",
    "***"
   ]
  },
  {
   "cell_type": "markdown",
   "metadata": {},
   "source": [
    "### Removing Non-English Apps <a name=\"remove\"></a>"
   ]
  },
  {
   "cell_type": "code",
   "execution_count": 140,
   "metadata": {},
   "outputs": [],
   "source": [
    "# Creating a function to identify English Language Characters (ASCII 0-127)\n",
    "\n",
    "def eng_char(string):\n",
    "    non_ASCII=0\n",
    "    \n",
    "    for char in string:\n",
    "        if ord(char) > 127:\n",
    "            non_ASCII += 1\n",
    "    \n",
    "    if non_ASCII > 3: #this condition is as a result of emoji and special charaters.\n",
    "        return False\n",
    "    else:\n",
    "        return True\n",
    "            "
   ]
  },
  {
   "cell_type": "code",
   "execution_count": 162,
   "metadata": {},
   "outputs": [],
   "source": [
    "# Using the English Language identifier function above to \n",
    "# filter the English and Non-English Apps on both Dataset.\n",
    "\n",
    "google_non_eng_apps=[]\n",
    "google_eng_apps=[]\n",
    "\n",
    "for row in google_data_clean[1:]:\n",
    "    app_name = row[0]\n",
    "    if eng_char(app_name) is False:\n",
    "        google_non_eng_apps.append(row)\n",
    "    else:\n",
    "        google_eng_apps.append(row)\n",
    "        \n",
    "        \n",
    "apple_non_eng_apps=[]\n",
    "apple_eng_apps=[] \n",
    "\n",
    "for row in app_store_data[1:]:\n",
    "    app_name = row[1]\n",
    "    if eng_char(app_name) is False:\n",
    "        apple_non_eng_apps.append(row)\n",
    "    else:\n",
    "        apple_eng_apps.append(row)\n",
    "        "
   ]
  },
  {
   "cell_type": "markdown",
   "metadata": {},
   "source": [
    "#### Exploring the Non-English Apps for Google and Apple Store Data"
   ]
  },
  {
   "cell_type": "code",
   "execution_count": 161,
   "metadata": {},
   "outputs": [
    {
     "name": "stdout",
     "output_type": "stream",
     "text": [
      "Samples of non-english app on Google Store\n",
      "\n",
      "\n",
      "['Flame - درب عقلك يوميا', 'EDUCATION', '4.6', '56065', '37M', '1,000,000+', 'Free', '0', 'Everyone', 'Education', 'July 26, 2018', '3.3', '4.1 and up']\n",
      "\n",
      "\n",
      "['သိင်္ Astrology - Min Thein Kha BayDin', 'LIFESTYLE', '4.7', '2225', '15M', '100,000+', 'Free', '0', 'Everyone', 'Lifestyle', 'July 26, 2018', '4.2.1', '4.0.3 and up']\n",
      "\n",
      "\n",
      "['РИА Новости', 'NEWS_AND_MAGAZINES', '4.5', '44274', '8.0M', '1,000,000+', 'Free', '0', 'Everyone', 'News & Magazines', 'August 6, 2018', '4.0.6', '4.4 and up']\n",
      "\n",
      "\n",
      "Number of rows:  44\n",
      "Number of columns:  13\n",
      "\n",
      "\n",
      "Samples of non-english app on Apple Store\n",
      "\n",
      "\n",
      "['445375097', '爱奇艺PPS -《欢乐颂2》电视剧热播', '224617472', 'USD', '0.0', '14844', '0', '4.0', '0.0', '6.3.3', '17+', 'Entertainment', '38', '5', '3', '1']\n",
      "\n",
      "\n",
      "['405667771', '聚力视频HD-人民的名义,跨界歌王全网热播', '90725376', 'USD', '0.0', '7446', '8', '4.0', '4.5', '5.0.8', '12+', 'Entertainment', '24', '4', '1', '1']\n",
      "\n",
      "\n",
      "['336141475', '优酷视频', '204959744', 'USD', '0.0', '4885', '0', '3.5', '0.0', '6.7.0', '12+', 'Entertainment', '38', '0', '2', '1']\n",
      "\n",
      "\n",
      "Number of rows:  1013\n",
      "Number of columns:  16\n"
     ]
    }
   ],
   "source": [
    "print('Samples of non-english app on Google Store')\n",
    "print('\\n')\n",
    "explore_data(google_non_eng_apps, 0, 3, True)\n",
    "print('\\n')\n",
    "print('Samples of non-english app on Apple Store')\n",
    "print('\\n')\n",
    "explore_data(apple_non_eng_apps, 0, 3, True)"
   ]
  },
  {
   "cell_type": "markdown",
   "metadata": {},
   "source": [
    "#### Exploring the English Apps for Google and Apple Store Data"
   ]
  },
  {
   "cell_type": "code",
   "execution_count": 159,
   "metadata": {},
   "outputs": [
    {
     "name": "stdout",
     "output_type": "stream",
     "text": [
      "Samples of english app on Google Store\n",
      "\n",
      "\n",
      "['U Launcher Lite – FREE Live Cool Themes, Hide Apps', 'ART_AND_DESIGN', '4.7', '87510', '8.7M', '5,000,000+', 'Free', '0', 'Everyone', 'Art & Design', 'August 1, 2018', '1.2.4', '4.0.3 and up']\n",
      "\n",
      "\n",
      "['Sketch - Draw & Paint', 'ART_AND_DESIGN', '4.5', '215644', '25M', '50,000,000+', 'Free', '0', 'Teen', 'Art & Design', 'June 8, 2018', 'Varies with device', '4.2 and up']\n",
      "\n",
      "\n",
      "['Pixel Draw - Number Art Coloring Book', 'ART_AND_DESIGN', '4.3', '967', '2.8M', '100,000+', 'Free', '0', 'Everyone', 'Art & Design;Creativity', 'June 20, 2018', '1.1', '4.4 and up']\n",
      "\n",
      "\n",
      "Number of rows:  9612\n",
      "Number of columns:  13\n",
      "\n",
      "\n",
      "Samples of english app on Apple Store\n",
      "\n",
      "\n",
      "['284882215', 'Facebook', '389879808', 'USD', '0.0', '2974676', '212', '3.5', '3.5', '95.0', '4+', 'Social Networking', '37', '1', '29', '1']\n",
      "\n",
      "\n",
      "['389801252', 'Instagram', '113954816', 'USD', '0.0', '2161558', '1289', '4.5', '4.0', '10.23', '12+', 'Photo & Video', '37', '0', '29', '1']\n",
      "\n",
      "\n",
      "['529479190', 'Clash of Clans', '116476928', 'USD', '0.0', '2130805', '579', '4.5', '4.5', '9.24.12', '9+', 'Games', '38', '5', '18', '1']\n",
      "\n",
      "\n",
      "Number of rows:  6182\n",
      "Number of columns:  16\n"
     ]
    }
   ],
   "source": [
    "print('Samples of english app on Google Store')\n",
    "print('\\n')\n",
    "explore_data(google_eng_apps, 0, 3, True)\n",
    "print('\\n')\n",
    "print('Samples of english app on Apple Store')\n",
    "print('\\n')\n",
    "explore_data(apple_eng_apps, 0, 3, True)"
   ]
  },
  {
   "cell_type": "markdown",
   "metadata": {},
   "source": [
    "### Isolating the Free Apps on English App Dataset <a name=\"isolate\"></a>"
   ]
  },
  {
   "cell_type": "markdown",
   "metadata": {},
   "source": [
    "###### Since our dataset consist of both free and non-free apps, and we only build app that are free to download and install, and our main source of revenue consists of in-app ads, therefore we have to isolate the free apps from English speaking dataset.\n"
   ]
  },
  {
   "cell_type": "code",
   "execution_count": 180,
   "metadata": {},
   "outputs": [
    {
     "name": "stdout",
     "output_type": "stream",
     "text": [
      "['App', 'Category', 'Rating', 'Reviews', 'Size', 'Installs', 'Type', 'Price', 'Content Rating', 'Genres', 'Last Updated', 'Current Ver', 'Android Ver']\n",
      "\n",
      "\n",
      "\n",
      "\n",
      "['id', 'track_name', 'size_bytes', 'currency', 'price', 'rating_count_tot', 'rating_count_ver', 'user_rating', 'user_rating_ver', 'ver', 'cont_rating', 'prime_genre', 'sup_devices.num', 'ipadSc_urls.num', 'lang.num', 'vpp_lic']\n",
      "\n",
      "\n"
     ]
    }
   ],
   "source": [
    "# Exploring the heading of the dataset for reference purpose on index.\n",
    "\n",
    "explore_data(google_store_data,0,1)\n",
    "print('\\n')\n",
    "explore_data(app_store_data,0,1)"
   ]
  },
  {
   "cell_type": "code",
   "execution_count": 183,
   "metadata": {},
   "outputs": [
    {
     "name": "stdout",
     "output_type": "stream",
     "text": [
      "Samples of free english app on Google Store\n",
      "\n",
      "\n",
      "['U Launcher Lite – FREE Live Cool Themes, Hide Apps', 'ART_AND_DESIGN', '4.7', '87510', '8.7M', '5,000,000+', 'Free', '0', 'Everyone', 'Art & Design', 'August 1, 2018', '1.2.4', '4.0.3 and up']\n",
      "\n",
      "\n",
      "['Sketch - Draw & Paint', 'ART_AND_DESIGN', '4.5', '215644', '25M', '50,000,000+', 'Free', '0', 'Teen', 'Art & Design', 'June 8, 2018', 'Varies with device', '4.2 and up']\n",
      "\n",
      "\n",
      "['Pixel Draw - Number Art Coloring Book', 'ART_AND_DESIGN', '4.3', '967', '2.8M', '100,000+', 'Free', '0', 'Everyone', 'Art & Design;Creativity', 'June 20, 2018', '1.1', '4.4 and up']\n",
      "\n",
      "\n",
      "Number of rows:  8861\n",
      "Number of columns:  13\n",
      "\n",
      "\n",
      "Samples of free english app on Apple Store\n",
      "\n",
      "\n",
      "['284882215', 'Facebook', '389879808', 'USD', '0.0', '2974676', '212', '3.5', '3.5', '95.0', '4+', 'Social Networking', '37', '1', '29', '1']\n",
      "\n",
      "\n",
      "['389801252', 'Instagram', '113954816', 'USD', '0.0', '2161558', '1289', '4.5', '4.0', '10.23', '12+', 'Photo & Video', '37', '0', '29', '1']\n",
      "\n",
      "\n",
      "['529479190', 'Clash of Clans', '116476928', 'USD', '0.0', '2130805', '579', '4.5', '4.5', '9.24.12', '9+', 'Games', '38', '5', '18', '1']\n",
      "\n",
      "\n",
      "Number of rows:  3221\n",
      "Number of columns:  16\n"
     ]
    }
   ],
   "source": [
    "# Isolating the free english apps on both Google and Apple store.\n",
    "google_free_apps=[]\n",
    "apple_free_apps=[]\n",
    "\n",
    "for app in google_eng_apps:\n",
    "    price = app[6]\n",
    "    if price == 'Free':\n",
    "        google_free_apps.append(app)\n",
    "   \n",
    "        \n",
    "for app in apple_eng_apps:\n",
    "    price = float(app[4])\n",
    "    if price == 0.0:\n",
    "        apple_free_apps.append(app)\n",
    "         \n",
    "        \n",
    "    \n",
    "print('Samples of free english app on Google Store')\n",
    "print('\\n')\n",
    "explore_data(google_free_apps, 0, 3, True)\n",
    "print('\\n')\n",
    "print('Samples of free english app on Apple Store')\n",
    "print('\\n')\n",
    "explore_data(apple_free_apps, 0, 3, True)   \n",
    "    "
   ]
  },
  {
   "cell_type": "markdown",
   "metadata": {
    "ExecuteTime": {
     "end_time": "2023-07-18T11:23:07.460903Z",
     "start_time": "2023-07-18T11:23:07.447504Z"
    }
   },
   "source": [
    "***\n",
    "***\n",
    "## Data Analysis <a name=\"analysis\"></a>"
   ]
  },
  {
   "cell_type": "markdown",
   "metadata": {},
   "source": [
    "As we mentioned in the introduction, our goal is to determine the kinds of apps that are likely to attract more users because the number of people using our apps affect our revenue.\n",
    "\n",
    "***To minimize risks and overhead, our validation strategy for an app idea has three steps:***\n",
    "\n",
    "1. Build a minimal Android version of the app, and add it to Google Play.\n",
    "2. If the app has a good response from users, we develop it further.\n",
    "3. If the app is profitable after six months, we build an iOS version of the app and add it to the App Store.\n",
    "\n",
    "\n",
    "**Because our end goal is to add the app on both Google Play and the App Store, we need to find app profiles that are successful in both markets.** "
   ]
  },
  {
   "cell_type": "markdown",
   "metadata": {},
   "source": [
    "### Determining the most common genres in each market <a name=\"common\"></a>"
   ]
  },
  {
   "cell_type": "code",
   "execution_count": 187,
   "metadata": {
    "scrolled": true
   },
   "outputs": [
    {
     "name": "stdout",
     "output_type": "stream",
     "text": [
      "Google Store\n",
      "\n",
      "\n",
      "['App', 'Category', 'Rating', 'Reviews', 'Size', 'Installs', 'Type', 'Price', 'Content Rating', 'Genres', 'Last Updated', 'Current Ver', 'Android Ver']\n",
      "\n",
      "\n",
      "['Photo Editor & Candy Camera & Grid & ScrapBook', 'ART_AND_DESIGN', '4.1', '159', '19M', '10,000+', 'Free', '0', 'Everyone', 'Art & Design', 'January 7, 2018', '1.0.0', '4.0.3 and up']\n",
      "\n",
      "\n",
      "\n",
      "\n",
      "\n",
      "\n",
      "Apple Store\n",
      "\n",
      "\n",
      "['id', 'track_name', 'size_bytes', 'currency', 'price', 'rating_count_tot', 'rating_count_ver', 'user_rating', 'user_rating_ver', 'ver', 'cont_rating', 'prime_genre', 'sup_devices.num', 'ipadSc_urls.num', 'lang.num', 'vpp_lic']\n",
      "\n",
      "\n",
      "['284882215', 'Facebook', '389879808', 'USD', '0.0', '2974676', '212', '3.5', '3.5', '95.0', '4+', 'Social Networking', '37', '1', '29', '1']\n",
      "\n",
      "\n"
     ]
    }
   ],
   "source": [
    "# Inspecting the columns of each dataset to identify columns we could use to \n",
    "# generate frequency tables to determine to the most common genres in each market\n",
    "\n",
    "print('Google Store')\n",
    "print('\\n')\n",
    "explore_data(google_store_data,0,2)\n",
    "print('\\n')\n",
    "print('\\n')\n",
    "print('Apple Store')\n",
    "print('\\n')\n",
    "explore_data(app_store_data,0,2)"
   ]
  },
  {
   "cell_type": "markdown",
   "metadata": {},
   "source": [
    "#### Beginning the analysis by getting a sense of the most common genres for each market. For this, we'll build a frequency table for the prime_genre column of the App Store data set, and the Genres and Category columns of the Google Play data set.\n",
    "\n",
    "\n",
    "**Building a frequency table for Genres column and prime_genre column of Google and Apple data respectively**"
   ]
  },
  {
   "cell_type": "code",
   "execution_count": 252,
   "metadata": {},
   "outputs": [],
   "source": [
    "# Creating a frequency table function that shows percentage. \n",
    "\n",
    "def freq_table(dataset,index):\n",
    "    freq_tab = {}\n",
    "    total = 0\n",
    "    \n",
    "    for app in dataset[1:]:\n",
    "        total += 1\n",
    "        genre = app[index]\n",
    "        \n",
    "        if genre in freq_tab:\n",
    "            freq_tab[genre] += 1\n",
    "        else:\n",
    "            freq_tab[genre] = 1\n",
    "            \n",
    "    # converting the dictionary value to percentage       \n",
    "    freq_tab_percentage = {} \n",
    "    \n",
    "    for genre in freq_tab:\n",
    "        percentage = (freq_tab[genre] / total)*100\n",
    "        freq_tab_percentage[genre]=percentage\n",
    "        \n",
    "    return freq_tab_percentage\n",
    "\n",
    "\n",
    "# We need to sort the frequecy tabe in descending order. But dictionary doesnt \n",
    "# have order, hence we create a function that can be use to display the percentages in a descending order.\n",
    "\n",
    "def display_table(dataset,index):\n",
    "    table_display = []\n",
    "    table = freq_table(dataset,index)\n",
    "    \n",
    "    for genre in table:\n",
    "        genre_value_tuple = (table[genre],genre)\n",
    "        table_display.append(genre_value_tuple)\n",
    "        \n",
    "    sorted_table = sorted(table_display,reverse=True) #This will sort on a descending order.\n",
    "    for item in sorted_table:\n",
    "        print(item[1],':',item[0])\n",
    "        \n",
    "        "
   ]
  },
  {
   "cell_type": "code",
   "execution_count": 253,
   "metadata": {},
   "outputs": [
    {
     "name": "stdout",
     "output_type": "stream",
     "text": [
      "FAMILY : 18.90305834555919\n",
      "GAME : 9.728021667983297\n",
      "TOOLS : 8.46405597562352\n",
      "BUSINESS : 4.593161042771697\n",
      "LIFESTYLE : 3.9047511567543167\n",
      "PRODUCTIVITY : 3.8934657487868187\n",
      "FINANCE : 3.7016138133393524\n",
      "MEDICAL : 3.532332693826882\n",
      "SPORTS : 3.3969077982169056\n",
      "PERSONALIZATION : 3.317909942444419\n",
      "COMMUNICATION : 3.2389120866719328\n",
      "HEALTH_AND_FITNESS : 3.080916375126961\n",
      "PHOTOGRAPHY : 2.9454914795169844\n",
      "NEWS_AND_MAGAZINES : 2.7987811759395105\n",
      "SOCIAL : 2.663356280329534\n",
      "TRAVEL_AND_LOCAL : 2.3360794492720913\n",
      "SHOPPING : 2.245796185532107\n",
      "BOOKS_AND_REFERENCE : 2.144227513824625\n",
      "DATING : 1.8620923146371742\n",
      "VIDEO_PLAYERS : 1.794379866832186\n",
      "MAPS_AND_NAVIGATION : 1.3993905879697552\n",
      "FOOD_AND_DRINK : 1.2413948764247829\n",
      "EDUCATION : 1.1623970206522967\n",
      "ENTERTAINMENT : 0.9592596772373322\n",
      "LIBRARIES_AND_DEMO : 0.9366888613023362\n",
      "AUTO_AND_VEHICLES : 0.9254034533348381\n",
      "HOUSE_AND_HOME : 0.8238347816273558\n",
      "WEATHER : 0.8012639656923597\n",
      "EVENTS : 0.7109807019523756\n",
      "PARENTING : 0.6545536621148855\n",
      "COMICS : 0.6206974382123914\n",
      "ART_AND_DESIGN : 0.6206974382123914\n",
      "BEAUTY : 0.5981266222773953\n"
     ]
    }
   ],
   "source": [
    "# Examining the frequency table in percentage for Google Store dataset.\n",
    "display_table(google_free_apps,1)"
   ]
  },
  {
   "cell_type": "markdown",
   "metadata": {},
   "source": [
    "***\n",
    "From Google Play Store display table, it shows that from the free english apps, about 19% falls on family categories. Game apps are close to 10%, followed by Tools apps which are close to 9%. About 5% apps are designed for Business, followed by Lifestyle apps which is around 4% of the apps in our data set.\n",
    "***"
   ]
  },
  {
   "cell_type": "code",
   "execution_count": 256,
   "metadata": {
    "scrolled": true
   },
   "outputs": [
    {
     "name": "stdout",
     "output_type": "stream",
     "text": [
      "Games : 58.180689226948154\n",
      "Entertainment : 7.885749767153058\n",
      "Photo & Video : 4.967401428127911\n",
      "Education : 3.6634585532443342\n",
      "Social Networking : 3.2598571872089415\n",
      "Shopping : 2.607885749767153\n",
      "Utilities : 2.5147469729897547\n",
      "Sports : 2.1421918658801617\n",
      "Music : 2.049053089102763\n",
      "Health & Fitness : 2.018006830176964\n",
      "Productivity : 1.7385904998447685\n",
      "Lifestyle : 1.5833592052157717\n",
      "News : 1.334989133809376\n",
      "Travel : 1.2418503570319777\n",
      "Finance : 1.11766532132878\n",
      "Weather : 0.8692952499223843\n",
      "Food & Drink : 0.8072027320707855\n",
      "Reference : 0.55883266066439\n",
      "Business : 0.5277864017385905\n",
      "Book : 0.43464762496119214\n",
      "Navigation : 0.18627755355479667\n",
      "Medical : 0.18627755355479667\n",
      "Catalogs : 0.12418503570319776\n"
     ]
    }
   ],
   "source": [
    "# Examining the frequency table in percentage for Apple Store dataset.\n",
    "display_table(apple_free_apps,11)"
   ]
  },
  {
   "cell_type": "markdown",
   "metadata": {},
   "source": [
    "***\n",
    "From Apple Store display table, the landscape of the free english apps seems significantly different from the Google Play Store. More than half (58.18%) are games. Entertainment apps are close to 8%, followed by photo & video apps which are close to 5%. About 3.66% apps are designed for Education, followed by social networking apps which is around 3.25% of the apps in our data set.\n",
    "\n",
    "This implies that there are more apps designed for fun on Apple sore than on Google Play Store. And it seems that a good number of apps are designed for pratical purposes such as Family, Tools, Business, lifestyle etc.\n",
    "***"
   ]
  },
  {
   "cell_type": "markdown",
   "metadata": {},
   "source": [
    "**Up to this point, we found that the App Store is dominated by apps designed for fun, while Google Play shows a more balanced landscape of both practical and for-fun apps. Now we'd like to get an idea about the kind of apps that have most users.**"
   ]
  },
  {
   "cell_type": "markdown",
   "metadata": {},
   "source": [
    "### Most Popular Apps by Genre on the Apple Store <a name=\"apple\"></a>"
   ]
  },
  {
   "cell_type": "code",
   "execution_count": 259,
   "metadata": {},
   "outputs": [
    {
     "name": "stdout",
     "output_type": "stream",
     "text": [
      "{'Photo & Video': 4.967401428127911, 'Games': 58.180689226948154, 'Music': 2.049053089102763, 'Social Networking': 3.2598571872089415, 'Reference': 0.55883266066439, 'Health & Fitness': 2.018006830176964, 'Weather': 0.8692952499223843, 'Utilities': 2.5147469729897547, 'Travel': 1.2418503570319777, 'Shopping': 2.607885749767153, 'News': 1.334989133809376, 'Navigation': 0.18627755355479667, 'Lifestyle': 1.5833592052157717, 'Entertainment': 7.885749767153058, 'Food & Drink': 0.8072027320707855, 'Sports': 2.1421918658801617, 'Book': 0.43464762496119214, 'Finance': 1.11766532132878, 'Education': 3.6634585532443342, 'Productivity': 1.7385904998447685, 'Business': 0.5277864017385905, 'Catalogs': 0.12418503570319776, 'Medical': 0.18627755355479667}\n"
     ]
    }
   ],
   "source": [
    "prime_genre_table = freq_table(apple_free_apps,11)\n",
    "print(prime_genre_table)"
   ]
  },
  {
   "cell_type": "code",
   "execution_count": 270,
   "metadata": {},
   "outputs": [
    {
     "name": "stdout",
     "output_type": "stream",
     "text": [
      "Photo & Video has 160 number of Apps, with an average user rating count of 28441.54\n",
      "\n",
      "\n",
      "Games has 1874 number of Apps, with an average user rating count of 22788.67\n",
      "\n",
      "\n",
      "Music has 66 number of Apps, with an average user rating count of 57326.53\n",
      "\n",
      "\n",
      "Social Networking has 106 number of Apps, with an average user rating count of 71548.35\n",
      "\n",
      "\n",
      "Reference has 18 number of Apps, with an average user rating count of 74942.11\n",
      "\n",
      "\n",
      "Health & Fitness has 65 number of Apps, with an average user rating count of 23298.02\n",
      "\n",
      "\n",
      "Weather has 28 number of Apps, with an average user rating count of 52279.89\n",
      "\n",
      "\n",
      "Utilities has 81 number of Apps, with an average user rating count of 18684.46\n",
      "\n",
      "\n",
      "Travel has 40 number of Apps, with an average user rating count of 28243.8\n",
      "\n",
      "\n",
      "Shopping has 84 number of Apps, with an average user rating count of 26919.69\n",
      "\n",
      "\n",
      "News has 43 number of Apps, with an average user rating count of 21248.02\n",
      "\n",
      "\n",
      "Navigation has 6 number of Apps, with an average user rating count of 86090.33\n",
      "\n",
      "\n",
      "Lifestyle has 51 number of Apps, with an average user rating count of 16485.76\n",
      "\n",
      "\n",
      "Entertainment has 254 number of Apps, with an average user rating count of 14029.83\n",
      "\n",
      "\n",
      "Food & Drink has 26 number of Apps, with an average user rating count of 33333.92\n",
      "\n",
      "\n",
      "Sports has 69 number of Apps, with an average user rating count of 23008.9\n",
      "\n",
      "\n",
      "Book has 14 number of Apps, with an average user rating count of 39758.5\n",
      "\n",
      "\n",
      "Finance has 36 number of Apps, with an average user rating count of 31467.94\n",
      "\n",
      "\n",
      "Education has 118 number of Apps, with an average user rating count of 7003.98\n",
      "\n",
      "\n",
      "Productivity has 56 number of Apps, with an average user rating count of 21028.41\n",
      "\n",
      "\n",
      "Business has 17 number of Apps, with an average user rating count of 7491.12\n",
      "\n",
      "\n",
      "Catalogs has 4 number of Apps, with an average user rating count of 4004.0\n",
      "\n",
      "\n",
      "Medical has 6 number of Apps, with an average user rating count of 612.0\n",
      "\n",
      "\n"
     ]
    }
   ],
   "source": [
    "for genre in prime_genre_table:\n",
    "    total = 0\n",
    "    len_genre = 0\n",
    "    for app in apple_free_apps:\n",
    "        genre_app = app[11]\n",
    "        if genre_app == genre:\n",
    "            user_rating = float(app[5])\n",
    "            total += user_rating\n",
    "            len_genre += 1\n",
    "            \n",
    "    average = total / len_genre\n",
    "            \n",
    "    print(genre, 'has', len_genre, 'number of Apps, with an average user rating count of',round(average,2))\n",
    "    print('\\n')\n",
    "    "
   ]
  },
  {
   "cell_type": "markdown",
   "metadata": {},
   "source": [
    "***\n",
    "From the analysis, Navigation has 6 Apps, with the highest average user rating count of 86090.33, followed by Reference whih has 18 apps with an average of 74942.11, 71548.35 for Social Networking with 106 apps,  Music has 66 apps with an average of 57326.53 and so on... in the apple data set.\n",
    "***\n",
    "By further analysis, we would explore the apps and their respective rating total under Navigation, Reference, Social Networking, Music and also for other genres with higher average user rating count, to check out the exact app with the highest user rating.\n",
    "***"
   ]
  },
  {
   "cell_type": "code",
   "execution_count": 330,
   "metadata": {},
   "outputs": [],
   "source": [
    "# Creating a genre_display function to explore all apps on Apple Store\n",
    "# with their respective total rating count in the same category/genre.\n",
    "\n",
    "def genre_display1(genre):\n",
    "    for app in apple_free_apps:\n",
    "        genres = app[11]\n",
    "        total_ratings = int(app[5])\n",
    "        app_name = app[1]\n",
    "\n",
    "        if genres == genre:\n",
    "            print(app_name,':',total_ratings) \n",
    "            "
   ]
  },
  {
   "cell_type": "code",
   "execution_count": 331,
   "metadata": {},
   "outputs": [
    {
     "name": "stdout",
     "output_type": "stream",
     "text": [
      "Waze - GPS Navigation, Maps & Real-time Traffic : 345046\n",
      "Google Maps - Navigation & Transit : 154911\n",
      "Geocaching® : 12811\n",
      "CoPilot GPS – Car Navigation & Offline Maps : 3582\n",
      "ImmobilienScout24: Real Estate Search in Germany : 187\n",
      "Railway Route Search : 5\n"
     ]
    }
   ],
   "source": [
    "genre_display1('Navigation')"
   ]
  },
  {
   "cell_type": "markdown",
   "metadata": {},
   "source": [
    "***\n",
    "By row by row examination of the above output, 'Waze - GPS Navigation, Maps & Real-time Traffic' app has the highest user rating of 345,046 in Navigation category.\n",
    "***"
   ]
  },
  {
   "cell_type": "code",
   "execution_count": 332,
   "metadata": {},
   "outputs": [
    {
     "name": "stdout",
     "output_type": "stream",
     "text": [
      "Bible : 985920\n",
      "Dictionary.com Dictionary & Thesaurus : 200047\n",
      "Dictionary.com Dictionary & Thesaurus for iPad : 54175\n",
      "Google Translate : 26786\n",
      "Muslim Pro: Ramadan 2017 Prayer Times, Azan, Quran : 18418\n",
      "New Furniture Mods - Pocket Wiki & Game Tools for Minecraft PC Edition : 17588\n",
      "Merriam-Webster Dictionary : 16849\n",
      "Night Sky : 12122\n",
      "City Maps for Minecraft PE - The Best Maps for Minecraft Pocket Edition (MCPE) : 8535\n",
      "LUCKY BLOCK MOD ™ for Minecraft PC Edition - The Best Pocket Wiki & Mods Installer Tools : 4693\n",
      "GUNS MODS for Minecraft PC Edition - Mods Tools : 1497\n",
      "Guides for Pokémon GO - Pokemon GO News and Cheats : 826\n",
      "WWDC : 762\n",
      "Horror Maps for Minecraft PE - Download The Scariest Maps for Minecraft Pocket Edition (MCPE) Free : 718\n",
      "VPN Express : 14\n",
      "Real Bike Traffic Rider Virtual Reality Glasses : 8\n",
      "教えて!goo : 0\n",
      "Jishokun-Japanese English Dictionary & Translator : 0\n"
     ]
    }
   ],
   "source": [
    "genre_display1('Reference')"
   ]
  },
  {
   "cell_type": "markdown",
   "metadata": {},
   "source": [
    "***\n",
    "By row by row examination of the above output, 'Bible' app has the highest user rating of 985,920 in Reference category, followed by 'Dictionary.com Dictionary & Thesaurus' app has a total user rating of 254,222.\n",
    "***"
   ]
  },
  {
   "cell_type": "code",
   "execution_count": 333,
   "metadata": {},
   "outputs": [
    {
     "name": "stdout",
     "output_type": "stream",
     "text": [
      "Facebook : 2974676\n",
      "Pinterest : 1061624\n",
      "Skype for iPhone : 373519\n",
      "Messenger : 351466\n",
      "Tumblr : 334293\n",
      "WhatsApp Messenger : 287589\n",
      "Kik : 260965\n",
      "ooVoo – Free Video Call, Text and Voice : 177501\n",
      "TextNow - Unlimited Text + Calls : 164963\n",
      "Viber Messenger – Text & Call : 164249\n",
      "Followers - Social Analytics For Instagram : 112778\n",
      "MeetMe - Chat and Meet New People : 97072\n",
      "We Heart It - Fashion, wallpapers, quotes, tattoos : 90414\n",
      "InsTrack for Instagram - Analytics Plus More : 85535\n",
      "Tango - Free Video Call, Voice and Chat : 75412\n",
      "LinkedIn : 71856\n",
      "Match™ - #1 Dating App. : 60659\n",
      "Skype for iPad : 60163\n",
      "POF - Best Dating App for Conversations : 52642\n",
      "Timehop : 49510\n",
      "Find My Family, Friends & iPhone - Life360 Locator : 43877\n",
      "Whisper - Share, Express, Meet : 39819\n",
      "Hangouts : 36404\n",
      "LINE PLAY - Your Avatar World : 34677\n",
      "WeChat : 34584\n",
      "Badoo - Meet New People, Chat, Socialize. : 34428\n",
      "Followers + for Instagram - Follower Analytics : 28633\n",
      "GroupMe : 28260\n",
      "Marco Polo Video Walkie Talkie : 27662\n",
      "Miitomo : 23965\n",
      "SimSimi : 23530\n",
      "Grindr - Gay and same sex guys chat, meet and date : 23201\n",
      "Wishbone - Compare Anything : 20649\n",
      "imo video calls and chat : 18841\n",
      "After School - Funny Anonymous School News : 18482\n",
      "Quick Reposter - Repost, Regram and Reshare Photos : 17694\n",
      "Weibo HD : 16772\n",
      "Repost for Instagram : 15185\n",
      "Live.me – Live Video Chat & Make Friends Nearby : 14724\n",
      "Nextdoor : 14402\n",
      "Followers Analytics for Instagram - InstaReport : 13914\n",
      "YouNow: Live Stream Video Chat : 12079\n",
      "FollowMeter for Instagram - Followers Tracking : 11976\n",
      "LINE : 11437\n",
      "eHarmony™ Dating App - Meet Singles : 11124\n",
      "Discord - Chat for Gamers : 9152\n",
      "QQ : 9109\n",
      "Telegram Messenger : 7573\n",
      "Weibo : 7265\n",
      "Periscope - Live Video Streaming Around the World : 6062\n",
      "Chat for Whatsapp - iPad Version : 5060\n",
      "QQ HD : 5058\n",
      "Followers Analysis Tool For Instagram App Free : 4253\n",
      "live.ly - live video streaming : 4145\n",
      "Houseparty - Group Video Chat : 3991\n",
      "SOMA Messenger : 3232\n",
      "Monkey : 3060\n",
      "Down To Lunch : 2535\n",
      "Flinch - Video Chat Staring Contest : 2134\n",
      "Highrise - Your Avatar Community : 2011\n",
      "LOVOO - Dating Chat : 1985\n",
      "PlayStation®Messages : 1918\n",
      "BOO! - Video chat camera with filters & stickers : 1805\n",
      "Qzone : 1649\n",
      "Chatous - Chat with new people : 1609\n",
      "Kiwi - Q&A : 1538\n",
      "GhostCodes - a discovery app for Snapchat : 1313\n",
      "Jodel : 1193\n",
      "FireChat : 1037\n",
      "Google Duo - simple video calling : 1033\n",
      "Fiesta by Tango - Chat & Meet New People : 885\n",
      "Google Allo — smart messaging : 862\n",
      "Peach — share vividly : 727\n",
      "Hey! VINA - Where Women Meet New Friends : 719\n",
      "Battlefield™ Companion : 689\n",
      "All Devices for WhatsApp - Messenger for iPad : 682\n",
      "Chat for Pokemon Go - GoChat : 500\n",
      "IAmNaughty – Dating App to Meet New People Online : 463\n",
      "Qzone HD : 458\n",
      "Zenly - Locate your friends in realtime : 427\n",
      "League of Legends Friends : 420\n",
      "豆瓣 : 407\n",
      "Candid - Speak Your Mind Freely : 398\n",
      "知乎 : 397\n",
      "Selfeo : 366\n",
      "Fake-A-Location Free ™ : 354\n",
      "Popcorn Buzz - Free Group Calls : 281\n",
      "Fam — Group video calling for iMessage : 279\n",
      "QQ International : 274\n",
      "Ameba : 269\n",
      "SoundCloud Pulse: for creators : 240\n",
      "Tantan : 235\n",
      "Cougar Dating & Life Style App for Mature Women : 213\n",
      "Rawr Messenger - Dab your chat : 180\n",
      "WhenToPost: Best Time to Post Photos for Instagram : 158\n",
      "Inke—Broadcast an amazing life : 147\n",
      "Mustknow - anonymous video Q&A : 53\n",
      "CTFxCmoji : 39\n",
      "Lobi : 36\n",
      "Chain: Collaborate On MyVideo Story/Group Video : 35\n",
      "botman - Real time video chat : 7\n",
      "BestieBox : 0\n",
      "MATCH ON LINE chat : 0\n",
      "niconico ch : 0\n",
      "LINE BLOG : 0\n",
      "bit-tube - Live Stream Video Chat : 0\n"
     ]
    }
   ],
   "source": [
    "genre_display1('Social Networking')"
   ]
  },
  {
   "cell_type": "markdown",
   "metadata": {},
   "source": [
    "***\n",
    "By row by row examination of the above output, 'Facebook' app has the highest user rating of 2,974,676 in Socaial Networking category, followed by 'Pinterest' app has a total user rating of 1,061,624.\n",
    "***"
   ]
  },
  {
   "cell_type": "code",
   "execution_count": 334,
   "metadata": {},
   "outputs": [
    {
     "name": "stdout",
     "output_type": "stream",
     "text": [
      "Pandora - Music & Radio : 1126879\n",
      "Spotify Music : 878563\n",
      "Shazam - Discover music, artists, videos & lyrics : 402925\n",
      "iHeartRadio – Free Music & Radio Stations : 293228\n",
      "SoundCloud - Music & Audio : 135744\n",
      "Magic Piano by Smule : 131695\n",
      "Smule Sing! : 119316\n",
      "TuneIn Radio - MLB NBA Audiobooks Podcasts Music : 110420\n",
      "Amazon Music : 106235\n",
      "SoundHound Song Search & Music Player : 82602\n",
      "Sonos Controller : 48905\n",
      "Bandsintown Concerts : 30845\n",
      "Karaoke - Sing Karaoke, Unlimited Songs! : 28606\n",
      "My Mixtapez Music : 26286\n",
      "Sing Karaoke Songs Unlimited with StarMaker : 26227\n",
      "Ringtones for iPhone & Ringtone Maker : 25403\n",
      "Musi - Unlimited Music For YouTube : 25193\n",
      "AutoRap by Smule : 18202\n",
      "Spinrilla - Mixtapes For Free : 15053\n",
      "Napster - Top Music & Radio : 14268\n",
      "edjing Mix:DJ turntable to remix and scratch music : 13580\n",
      "Free Music - MP3 Streamer & Playlist Manager Pro : 13443\n",
      "Free Piano app by Yokee : 13016\n",
      "Google Play Music : 10118\n",
      "Certified Mixtapes - Hip Hop Albums & Mixtapes : 9975\n",
      "TIDAL : 7398\n",
      "YouTube Music : 7109\n",
      "Nicki Minaj: The Empire : 5196\n",
      "Sounds app - Music And Friends : 5126\n",
      "SongFlip - Free Music Streamer : 5004\n",
      "Simple Radio - Live AM & FM Radio Stations : 4787\n",
      "Deezer - Listen to your Favorite Music & Playlists : 4677\n",
      "Ringtones for iPhone with Ringtone Maker : 4013\n",
      "Bose SoundTouch : 3687\n",
      "Amazon Alexa : 3018\n",
      "DatPiff : 2815\n",
      "Trebel Music - Unlimited Music Downloader : 2570\n",
      "Free Music Play - Mp3 Streamer & Player : 2496\n",
      "Acapella from PicPlayPost : 2487\n",
      "Coach Guitar - Lessons & Easy Tabs For Beginners : 2416\n",
      "Musicloud - MP3 and FLAC Music Player for Cloud Platforms. : 2211\n",
      "Piano - Play Keyboard Music Games with Magic Tiles : 1636\n",
      "Boom: Best Equalizer & Magical Surround Sound : 1375\n",
      "Music Freedom - Unlimited Free MP3 Music Streaming : 1246\n",
      "AmpMe - A Portable Social Party Music Speaker : 1047\n",
      "Medly - Music Maker : 933\n",
      "Bose Connect : 915\n",
      "Music Memos : 909\n",
      "UE BOOM : 612\n",
      "LiveMixtapes : 555\n",
      "NOISE : 355\n",
      "MP3 Music Player & Streamer for Clouds : 329\n",
      "Musical Video Maker - Create Music clips lip sync : 320\n",
      "Cloud Music Player - Downloader & Playlist Manager : 319\n",
      "Remixlive - Remix loops with pads : 288\n",
      "QQ音乐HD : 224\n",
      "Blocs Wave - Make & Record Music : 158\n",
      "PlayGround • Music At Your Fingertips : 150\n",
      "Music and Chill : 135\n",
      "The Singing Machine Mobile Karaoke App : 130\n",
      "radio.de - Der Radioplayer : 64\n",
      "Free Music -  Player & Streamer  for Dropbox, OneDrive & Google Drive : 46\n",
      "NRJ Radio : 38\n",
      "Smart Music: Streaming Videos and Radio : 17\n",
      "BOSS Tuner : 13\n",
      "PetitLyrics : 0\n"
     ]
    }
   ],
   "source": [
    "genre_display1('Music')"
   ]
  },
  {
   "cell_type": "markdown",
   "metadata": {},
   "source": [
    "***\n",
    "By row-by-row examination of the above output, 'Pandora - Music & Radio' app has the highest user rating of 1,126,879 in Music category, followed by 'Spotify Music' app has a total user rating of 878,563.\n",
    "***"
   ]
  },
  {
   "cell_type": "markdown",
   "metadata": {},
   "source": [
    "***\n",
    "***In summary from the analysis, the following free english apps attracted more users on Apple Store:***\n",
    "1. 'Waze - GPS Navigation, Maps & Real-time Traffic'\n",
    "2. 'Bible'\n",
    "3. 'Dictionary.com Dictionary & Thesaurus'\n",
    "4. 'Facebook'\n",
    "5. 'Pinterest'\n",
    "6. 'Pandora - Music & Radio'\n",
    "7. 'Spotify Music'\n"
   ]
  },
  {
   "cell_type": "markdown",
   "metadata": {},
   "source": [
    "### Most Popular Apps by Genre on the Google Play Store <a name=\"google\"></a>"
   ]
  },
  {
   "cell_type": "code",
   "execution_count": 335,
   "metadata": {},
   "outputs": [
    {
     "name": "stdout",
     "output_type": "stream",
     "text": [
      "{'ART_AND_DESIGN': 0.6206974382123914, 'AUTO_AND_VEHICLES': 0.9254034533348381, 'BEAUTY': 0.5981266222773953, 'BOOKS_AND_REFERENCE': 2.144227513824625, 'BUSINESS': 4.593161042771697, 'COMICS': 0.6206974382123914, 'COMMUNICATION': 3.2389120866719328, 'DATING': 1.8620923146371742, 'EDUCATION': 1.1623970206522967, 'ENTERTAINMENT': 0.9592596772373322, 'EVENTS': 0.7109807019523756, 'FINANCE': 3.7016138133393524, 'FOOD_AND_DRINK': 1.2413948764247829, 'HEALTH_AND_FITNESS': 3.080916375126961, 'HOUSE_AND_HOME': 0.8238347816273558, 'LIBRARIES_AND_DEMO': 0.9366888613023362, 'LIFESTYLE': 3.9047511567543167, 'GAME': 9.728021667983297, 'FAMILY': 18.90305834555919, 'MEDICAL': 3.532332693826882, 'SOCIAL': 2.663356280329534, 'SHOPPING': 2.245796185532107, 'PHOTOGRAPHY': 2.9454914795169844, 'SPORTS': 3.3969077982169056, 'TRAVEL_AND_LOCAL': 2.3360794492720913, 'TOOLS': 8.46405597562352, 'PERSONALIZATION': 3.317909942444419, 'PRODUCTIVITY': 3.8934657487868187, 'PARENTING': 0.6545536621148855, 'WEATHER': 0.8012639656923597, 'VIDEO_PLAYERS': 1.794379866832186, 'NEWS_AND_MAGAZINES': 2.7987811759395105, 'MAPS_AND_NAVIGATION': 1.3993905879697552}\n"
     ]
    }
   ],
   "source": [
    "category_table = freq_table(google_free_apps,1)\n",
    "print(category_table)\n",
    "    "
   ]
  },
  {
   "cell_type": "code",
   "execution_count": 336,
   "metadata": {
    "scrolled": true
   },
   "outputs": [
    {
     "name": "stdout",
     "output_type": "stream",
     "text": [
      "ART_AND_DESIGN has 56 number of Apps, with an average user rating count of 2021626.79\n",
      "\n",
      "\n",
      "AUTO_AND_VEHICLES has 82 number of Apps, with an average user rating count of 647317.82\n",
      "\n",
      "\n",
      "BEAUTY has 53 number of Apps, with an average user rating count of 513151.89\n",
      "\n",
      "\n",
      "BOOKS_AND_REFERENCE has 190 number of Apps, with an average user rating count of 8767811.89\n",
      "\n",
      "\n",
      "BUSINESS has 407 number of Apps, with an average user rating count of 1712290.15\n",
      "\n",
      "\n",
      "COMICS has 55 number of Apps, with an average user rating count of 817657.27\n",
      "\n",
      "\n",
      "COMMUNICATION has 287 number of Apps, with an average user rating count of 38456119.17\n",
      "\n",
      "\n",
      "DATING has 165 number of Apps, with an average user rating count of 854028.83\n",
      "\n",
      "\n",
      "EDUCATION has 103 number of Apps, with an average user rating count of 1833495.15\n",
      "\n",
      "\n",
      "ENTERTAINMENT has 85 number of Apps, with an average user rating count of 11640705.88\n",
      "\n",
      "\n",
      "EVENTS has 63 number of Apps, with an average user rating count of 253542.22\n",
      "\n",
      "\n",
      "FINANCE has 328 number of Apps, with an average user rating count of 1387692.48\n",
      "\n",
      "\n",
      "FOOD_AND_DRINK has 110 number of Apps, with an average user rating count of 1924897.74\n",
      "\n",
      "\n",
      "HEALTH_AND_FITNESS has 273 number of Apps, with an average user rating count of 4188821.99\n",
      "\n",
      "\n",
      "HOUSE_AND_HOME has 73 number of Apps, with an average user rating count of 1331540.56\n",
      "\n",
      "\n",
      "LIBRARIES_AND_DEMO has 83 number of Apps, with an average user rating count of 638503.73\n",
      "\n",
      "\n",
      "LIFESTYLE has 346 number of Apps, with an average user rating count of 1437816.27\n",
      "\n",
      "\n",
      "GAME has 862 number of Apps, with an average user rating count of 15588015.6\n",
      "\n",
      "\n",
      "FAMILY has 1675 number of Apps, with an average user rating count of 3697848.17\n",
      "\n",
      "\n",
      "MEDICAL has 313 number of Apps, with an average user rating count of 120550.62\n",
      "\n",
      "\n",
      "SOCIAL has 236 number of Apps, with an average user rating count of 23253652.13\n",
      "\n",
      "\n",
      "SHOPPING has 199 number of Apps, with an average user rating count of 7036877.31\n",
      "\n",
      "\n",
      "PHOTOGRAPHY has 261 number of Apps, with an average user rating count of 17840110.4\n",
      "\n",
      "\n",
      "SPORTS has 301 number of Apps, with an average user rating count of 3638640.14\n",
      "\n",
      "\n",
      "TRAVEL_AND_LOCAL has 207 number of Apps, with an average user rating count of 13984077.71\n",
      "\n",
      "\n",
      "TOOLS has 750 number of Apps, with an average user rating count of 10801391.3\n",
      "\n",
      "\n",
      "PERSONALIZATION has 294 number of Apps, with an average user rating count of 5201482.61\n",
      "\n",
      "\n",
      "PRODUCTIVITY has 345 number of Apps, with an average user rating count of 16787331.34\n",
      "\n",
      "\n",
      "PARENTING has 58 number of Apps, with an average user rating count of 542603.62\n",
      "\n",
      "\n",
      "WEATHER has 71 number of Apps, with an average user rating count of 5074486.2\n",
      "\n",
      "\n",
      "VIDEO_PLAYERS has 159 number of Apps, with an average user rating count of 24727872.45\n",
      "\n",
      "\n",
      "NEWS_AND_MAGAZINES has 248 number of Apps, with an average user rating count of 9549178.47\n",
      "\n",
      "\n",
      "MAPS_AND_NAVIGATION has 124 number of Apps, with an average user rating count of 4056941.77\n",
      "\n",
      "\n"
     ]
    }
   ],
   "source": [
    "for category_app in category_table:\n",
    "    total = 0\n",
    "    len_category = 0\n",
    "    \n",
    "    for app in google_free_apps:\n",
    "        category = app[1]\n",
    "        installs = app[5]\n",
    "        installs=installs.replace('+','')  # Replacing '+' & ',' with empty string.\n",
    "        installs=float(installs.replace(',',''))\n",
    "\n",
    "        if category == category_app:\n",
    "            total += installs\n",
    "            len_category += 1\n",
    "\n",
    "    average = round(total / len_category,2)\n",
    "    \n",
    "    print(category_app, 'has', len_category, 'number of Apps, with an average user rating count of',average)\n",
    "    print('\\n')\n",
    "    "
   ]
  },
  {
   "cell_type": "markdown",
   "metadata": {},
   "source": [
    "***\n",
    "From the analysis, COMMUNICATION has 287 Apps, with the highest average user rating count of 38456119.17, followed by VIDEO_PLAYERS which has 159 apps with an average of 24727872.  SOCIAL has 236 apps with an average of 23253652.13 and so on... in the google data set.\n",
    "***\n",
    "By further analysis, we would explore the apps and their respective rating total under COMMUNICATION, VIDEO_PLAYERS, SOCIAL and also for other genres with higher average user rating count, to check out the exact app with the highest user rating.\n",
    "***"
   ]
  },
  {
   "cell_type": "code",
   "execution_count": 350,
   "metadata": {},
   "outputs": [],
   "source": [
    "# Creating a genre_display function to explore all apps on Google Play Store\n",
    "# with their respective total rating count in the same category/genre.\n",
    "\n",
    "def genre_display2(genre):\n",
    "    for app in google_free_apps:\n",
    "        category = app[1]\n",
    "        app_name = app[0]\n",
    "        installs = app[5]\n",
    "\n",
    "        if category == genre:\n",
    "            print(app_name,':-----------:',installs) \n",
    "            "
   ]
  },
  {
   "cell_type": "code",
   "execution_count": 352,
   "metadata": {},
   "outputs": [
    {
     "name": "stdout",
     "output_type": "stream",
     "text": [
      "WhatsApp Messenger :-----------: 1,000,000,000+\n",
      "Messenger for SMS :-----------: 10,000,000+\n",
      "My Tele2 :-----------: 5,000,000+\n",
      "imo beta free calls and text :-----------: 100,000,000+\n",
      "Contacts :-----------: 50,000,000+\n",
      "Call Free – Free Call :-----------: 5,000,000+\n",
      "Web Browser & Explorer :-----------: 5,000,000+\n",
      "Browser 4G :-----------: 10,000,000+\n",
      "MegaFon Dashboard :-----------: 10,000,000+\n",
      "ZenUI Dialer & Contacts :-----------: 10,000,000+\n",
      "Cricket Visual Voicemail :-----------: 10,000,000+\n",
      "TracFone My Account :-----------: 1,000,000+\n",
      "Xperia Link™ :-----------: 10,000,000+\n",
      "TouchPal Keyboard - Fun Emoji & Android Keyboard :-----------: 10,000,000+\n",
      "Skype Lite - Free Video Call & Chat :-----------: 5,000,000+\n",
      "My magenta :-----------: 1,000,000+\n",
      "Android Messages :-----------: 100,000,000+\n",
      "Google Duo - High Quality Video Calls :-----------: 500,000,000+\n",
      "Seznam.cz :-----------: 1,000,000+\n",
      "Antillean Gold Telegram (original version) :-----------: 100,000+\n",
      "AT&T Visual Voicemail :-----------: 10,000,000+\n",
      "GMX Mail :-----------: 10,000,000+\n",
      "Omlet Chat :-----------: 10,000,000+\n",
      "My Vodacom SA :-----------: 5,000,000+\n",
      "Microsoft Edge :-----------: 5,000,000+\n",
      "Messenger – Text and Video Chat for Free :-----------: 1,000,000,000+\n",
      "imo free video calls and chat :-----------: 500,000,000+\n",
      "Calls & Text by Mo+ :-----------: 5,000,000+\n",
      "free video calls and chat :-----------: 50,000,000+\n",
      "Skype - free IM & video calls :-----------: 1,000,000,000+\n",
      "Who :-----------: 100,000,000+\n",
      "GO SMS Pro - Messenger, Free Themes, Emoji :-----------: 100,000,000+\n",
      "Messaging+ SMS, MMS Free :-----------: 1,000,000+\n",
      "chomp SMS :-----------: 10,000,000+\n",
      "Glide - Video Chat Messenger :-----------: 10,000,000+\n",
      "Text SMS :-----------: 10,000,000+\n",
      "Talkray - Free Calls & Texts :-----------: 10,000,000+\n",
      "LINE: Free Calls & Messages :-----------: 500,000,000+\n",
      "GroupMe :-----------: 10,000,000+\n",
      "mysms SMS Text Messaging Sync :-----------: 1,000,000+\n",
      "2ndLine - Second Phone Number :-----------: 1,000,000+\n",
      "Google Chrome: Fast & Secure :-----------: 1,000,000,000+\n",
      "Firefox Browser fast & private :-----------: 100,000,000+\n",
      "Ninesky Browser :-----------: 1,000,000+\n",
      "Dolphin Browser - Fast, Private & Adblock🐬 :-----------: 50,000,000+\n",
      "UC Browser - Fast Download Private & Secure :-----------: 500,000,000+\n",
      "Ghostery Privacy Browser :-----------: 1,000,000+\n",
      "InBrowser - Incognito Browsing :-----------: 1,000,000+\n",
      "Lightning Web Browser :-----------: 500,000+\n",
      "Web Browser :-----------: 500,000+\n",
      "Contacts+ :-----------: 10,000,000+\n",
      "ExDialer - Dialer & Contacts :-----------: 10,000,000+\n",
      "PHONE for Google Voice & GTalk :-----------: 1,000,000+\n",
      "Safest Call Blocker :-----------: 1,000,000+\n",
      "Full Screen Caller ID :-----------: 5,000,000+\n",
      "Hiya - Caller ID & Block :-----------: 10,000,000+\n",
      "Mr. Number-Block calls & spam :-----------: 10,000,000+\n",
      "Should I Answer? :-----------: 1,000,000+\n",
      "RocketDial Dialer & Contacts :-----------: 1,000,000+\n",
      "CIA - Caller ID & Call Blocker :-----------: 5,000,000+\n",
      "Calls Blacklist - Call Blocker :-----------: 10,000,000+\n",
      "Call Control - Call Blocker :-----------: 5,000,000+\n",
      "True Contact - Real Caller ID :-----------: 1,000,000+\n",
      "Video Caller Id :-----------: 1,000,000+\n",
      "Sync.ME – Caller ID & Block :-----------: 5,000,000+\n",
      "Burner - Free Phone Number :-----------: 1,000,000+\n",
      "Caller ID + :-----------: 1,000,000+\n",
      "Gmail :-----------: 1,000,000,000+\n",
      "K-9 Mail :-----------: 5,000,000+\n",
      "myMail – Email for Hotmail, Gmail and Outlook Mail :-----------: 10,000,000+\n",
      "Email TypeApp - Mail App :-----------: 1,000,000+\n",
      "All Email Providers :-----------: 1,000,000+\n",
      "Newton Mail - Email App for Gmail, Outlook, IMAP :-----------: 1,000,000+\n",
      "GO Notifier :-----------: 10,000,000+\n",
      "Mail.Ru - Email App :-----------: 50,000,000+\n",
      "Mail1Click - Secure Mail :-----------: 10,000+\n",
      "Daum Mail - Next Mail :-----------: 5,000,000+\n",
      "mail.com mail :-----------: 1,000,000+\n",
      "SolMail - All-in-One email app :-----------: 500,000+\n",
      "Hangouts :-----------: 1,000,000,000+\n",
      "Vonage Mobile® Call Video Text :-----------: 1,000,000+\n",
      "JusTalk - Free Video Calls and Fun Video Chat :-----------: 5,000,000+\n",
      "Azar :-----------: 50,000,000+\n",
      "LokLok: Draw on a Lock Screen :-----------: 500,000+\n",
      "Discord - Chat for Gamers :-----------: 10,000,000+\n",
      "Messenger Lite: Free Calls & Messages :-----------: 100,000,000+\n",
      "AntennaPict β :-----------: 1,000,000+\n",
      "Talkatone: Free Texts, Calls & Phone Number :-----------: 10,000,000+\n",
      "Kik :-----------: 100,000,000+\n",
      "K-@ Mail - Email App :-----------: 100,000+\n",
      "KakaoTalk: Free Calls & Text :-----------: 100,000,000+\n",
      "K-9 Material (unofficial) :-----------: 5,000+\n",
      "M star Dialer :-----------: 100,000+\n",
      "Free WiFi Connect :-----------: 10,000,000+\n",
      "m:go BiH :-----------: 10,000+\n",
      "N-Com Wizard :-----------: 50,000+\n",
      "Opera Mini - fast web browser :-----------: 100,000,000+\n",
      "Opera Browser: Fast and Secure :-----------: 100,000,000+\n",
      "Opera Mini browser beta :-----------: 10,000,000+\n",
      "Psiphon Pro - The Internet Freedom VPN :-----------: 10,000,000+\n",
      "ICQ — Video Calls & Chat Messenger :-----------: 10,000,000+\n",
      "Telegram :-----------: 100,000,000+\n",
      "AT&T Messages for Tablet :-----------: 1,000,000+\n",
      "T-Mobile DIGITS :-----------: 100,000+\n",
      "Truecaller: Caller ID, SMS spam blocking & Dialer :-----------: 100,000,000+\n",
      "Portable Wi-Fi hotspot :-----------: 10,000,000+\n",
      "AT&T Call Protect :-----------: 5,000,000+\n",
      "U - Webinars, Meetings & Messenger :-----------: 500,000+\n",
      "UC Browser Mini -Tiny Fast Private & Secure :-----------: 100,000,000+\n",
      "/u/app :-----------: 10,000+\n",
      "[verify-U] VideoIdent :-----------: 10,000+\n",
      "Viber Messenger :-----------: 500,000,000+\n",
      "WeChat :-----------: 100,000,000+\n",
      "WhatsApp Business :-----------: 10,000,000+\n",
      "WhatsCall Free Global Phone Call App & Cheap Calls :-----------: 10,000,000+\n",
      "X Browser :-----------: 50,000+\n",
      "Yahoo Mail – Stay Organized :-----------: 100,000,000+\n",
      "Free Adblocker Browser - Adblock & Popup Blocker :-----------: 10,000,000+\n",
      "Adblock Browser for Android :-----------: 10,000,000+\n",
      "CM Browser - Ad Blocker , Fast Download , Privacy :-----------: 50,000,000+\n",
      "Adblock Plus for Samsung Internet - Browse safe. :-----------: 1,000,000+\n",
      "Ad Blocker Turbo - Adblocker Browser :-----------: 10,000+\n",
      "Brave Browser: Fast AdBlocker :-----------: 5,000,000+\n",
      "AG Contacts, Lite edition :-----------: 5,000+\n",
      "Oklahoma Ag Co-op Council :-----------: 10+\n",
      "Bee'ah Employee App :-----------: 100+\n",
      "tournaments and more.aj.2 :-----------: 100+\n",
      "Aj.Petra :-----------: 100+\n",
      "AK Phone :-----------: 5,000+\n",
      "PlacarTv Futebol Ao Vivo :-----------: 100,000+\n",
      "WiFi Access Point (hotspot) :-----------: 100,000+\n",
      "Access Point Names :-----------: 10,000+\n",
      "Puffin Web Browser :-----------: 10,000,000+\n",
      "ClanHQ :-----------: 10,000+\n",
      "Ear Agent: Super Hearing :-----------: 5,000,000+\n",
      "Google Voice :-----------: 10,000,000+\n",
      "Google Allo :-----------: 10,000,000+\n",
      "AU Call Blocker - Block Unwanted Calls Texts 2018 :-----------: 1,000+\n",
      "Baby Monitor AV :-----------: 100,000+\n",
      "AV Phone :-----------: 1,000+\n",
      "AW - free video calls and chat :-----------: 1,000,000+\n",
      "Katalogen.ax :-----------: 100+\n",
      "AZ Browser. Private & Download :-----------: 100,000+\n",
      "BA SALES :-----------: 1+\n",
      "BD Data Plan (3G & 4G) :-----------: 500,000+\n",
      "BD Internet Packages (Updated) :-----------: 50,000+\n",
      "BD Dialer :-----------: 10,000+\n",
      "BD Live Call :-----------: 5,000+\n",
      "Best Browser BD social networking :-----------: 10+\n",
      "Traffic signs BD :-----------: 500+\n",
      "BF Browser by Betfilter - Stop Gambling Today! :-----------: 10,000+\n",
      "My BF App :-----------: 50,000+\n",
      "BH Mail :-----------: 1,000+\n",
      "Zalo – Video Call :-----------: 50,000,000+\n",
      "BJ - Confidential :-----------: 10+\n",
      "BK Chat :-----------: 1,000+\n",
      "Of the wall Arapaho bk :-----------: 5+\n",
      "AC-BL :-----------: 50+\n",
      "BBM - Free Calls & Messages :-----------: 100,000,000+\n",
      "DMR BrandMeister Tool :-----------: 10,000+\n",
      "BBMoji - Your personalized BBM Stickers :-----------: 1,000,000+\n",
      "BN MALLORCA Radio :-----------: 1,000+\n",
      "BQ Partners :-----------: 1,000+\n",
      "BS-Mobile :-----------: 50+\n",
      "ATC Unico BS :-----------: 500+\n",
      "BT One Voice mobile access :-----------: 5,000+\n",
      "BT Messenger :-----------: 50,000+\n",
      "BT One Phone Mobile App :-----------: 10,000+\n",
      "SW-100.tch by Callstel :-----------: 1,000,000+\n",
      "BT MeetMe with Dolby Voice :-----------: 100,000+\n",
      "Bluetooth Auto Connect :-----------: 5,000,000+\n",
      "AudioBT: BT audio GPS/SMS/Text :-----------: 50,000+\n",
      "BV :-----------: 100+\n",
      "Feel Performer :-----------: 10,000+\n",
      "Tiny Call Confirm :-----------: 1,000,000+\n",
      "CB Radio Chat - for friends! :-----------: 1,000,000+\n",
      "CB On Mobile :-----------: 100,000+\n",
      "Virtual Walkie Talkie :-----------: 1,000,000+\n",
      "Channel 19 :-----------: 100,000+\n",
      "Cb browser :-----------: 50+\n",
      "CF Chat: Connecting Friends :-----------: 100+\n",
      "retteMi.ch :-----------: 5,000+\n",
      "Chrome Dev :-----------: 5,000,000+\n",
      "CJ Browser - Fast & Private :-----------: 100+\n",
      "CJ DVD Rentals :-----------: 100+\n",
      "CK Call NEW :-----------: 10+\n",
      "CM Transfer - Share any files with friends nearby :-----------: 5,000,000+\n",
      "mail.co.uk Mail :-----------: 5,000+\n",
      "ClanPlay: Community and Tools for Gamers :-----------: 1,000,000+\n",
      "CQ-Mobile :-----------: 1,000+\n",
      "CQ-Alert :-----------: 500+\n",
      "QRZ Assistant :-----------: 100,000+\n",
      "Pocket Prefix Plus :-----------: 10,000+\n",
      "Ham Radio Prefixes :-----------: 10,000+\n",
      "CS Customizer :-----------: 1,000+\n",
      "CS Browser | #1 & BEST BROWSER :-----------: 1,000+\n",
      "CS Browser Beta :-----------: 5,000+\n",
      "My Vodafone (GR) :-----------: 1,000,000+\n",
      "IZ2UUF Morse Koch CW :-----------: 50,000+\n",
      "C W Browser :-----------: 100+\n",
      "CW Bluetooth SPP :-----------: 100+\n",
      "CW BLE Peripheral Simulator :-----------: 500+\n",
      "Morse Code Reader :-----------: 100,000+\n",
      "Learn Morse Code - G0HYN Learn Morse :-----------: 5,000+\n",
      "Ring :-----------: 10,000+\n",
      "Hyundai CX Conference :-----------: 50+\n",
      "Cy Messenger :-----------: 100+\n",
      "Amadeus GR & CY :-----------: 100+\n",
      "Hlášenírozhlasu.cz :-----------: 10+\n",
      "SMS Sender - sluzba.cz :-----------: 1,000+\n",
      "WEB.DE Mail :-----------: 10,000,000+\n",
      "Your Freedom VPN Client :-----------: 5,000,000+\n",
      "CallApp: Caller ID, Blocker & Phone Call Recorder :-----------: 10,000,000+\n",
      "Rádio Sol Nascente DF :-----------: 500+\n",
      "DG Card :-----------: 100+\n",
      "Whoscall - Caller ID & Block :-----------: 10,000,000+\n",
      "DK Browser :-----------: 10+\n",
      "cluster.dk :-----------: 1,000+\n",
      "DK TEL Dialer :-----------: 50+\n",
      "DM for WhatsApp :-----------: 5,000+\n",
      "DM Talk New :-----------: 5,000+\n",
      "DM - The Offical Messaging App :-----------: 10+\n",
      "DM Tracker :-----------: 1,000+\n",
      "Call Blocker & Blacklist :-----------: 1,000+\n",
      "ReadyOp DT :-----------: 1,000+\n",
      "DU Browser—Browse fast & fun :-----------: 10,000,000+\n",
      "Caller ID & Call Block - DU Caller :-----------: 5,000,000+\n",
      "BlueDV AMBE :-----------: 1,000+\n",
      "DW Contacts & Phone & Dialer :-----------: 1,000,000+\n",
      "Deaf World DW :-----------: 10,000+\n",
      "Ham DX Cluster & Spots Finder :-----------: 5,000+\n",
      "Mircules DX Cluster Lite :-----------: 5,000+\n",
      "3G DZ Configuration :-----------: 50,000+\n",
      "chat dz :-----------: 100+\n",
      "love sms good morning :-----------: 5,000+\n",
      "Goodbox - Mega App :-----------: 100,000+\n",
      "Call Blocker - Blacklist, SMS Blocker :-----------: 1,000,000+\n",
      "[EF]ShoutBox :-----------: 100+\n",
      "Eg Call :-----------: 10,000+\n",
      "ei :-----------: 10+\n",
      "EJ messenger :-----------: 10+\n",
      "Ek IRA :-----------: 10+\n",
      "Orfox: Tor Browser for Android :-----------: 10,000,000+\n",
      "EO Mumbai :-----------: 10+\n",
      "EP RSS Reader :-----------: 100+\n",
      "Voxer Walkie Talkie Messenger :-----------: 10,000,000+\n",
      "ES-1 :-----------: 500+\n",
      "Hangouts Dialer - Call Phones :-----------: 10,000,000+\n",
      "EU Council :-----------: 1,000+\n",
      "Council Voting Calculator :-----------: 5,000+\n",
      "Have your say on Europe :-----------: 500+\n",
      "Programi podrške EU :-----------: 100+\n",
      "Inbox.eu :-----------: 10,000+\n",
      "Web Browser for Android :-----------: 1,000,000+\n",
      "Everbridge :-----------: 100,000+\n",
      "Best Auto Call Recorder Free :-----------: 500+\n",
      "EZ Wifi Notification :-----------: 10,000+\n",
      "Test Server SMS FA :-----------: 5+\n",
      "Lite for Facebook Messenger :-----------: 1,000,000+\n",
      "FC Browser - Focus Privacy Browser :-----------: 1,000+\n",
      "EHiN-FH conferenceapp :-----------: 100+\n",
      "Carpooling FH Hagenberg :-----------: 100+\n",
      "Wi-Fi Auto-connect :-----------: 1,000,000+\n",
      "Talkie - Wi-Fi Calling, Chats, File Sharing :-----------: 500,000+\n",
      "WeFi - Free Fast WiFi Connect & Find Wi-Fi Map :-----------: 1,000,000+\n",
      "Sat-Fi :-----------: 5,000+\n",
      "Portable Wi-Fi hotspot Free :-----------: 100,000+\n",
      "TownWiFi | Wi-Fi Everywhere :-----------: 500,000+\n",
      "Jazz Wi-Fi :-----------: 10,000+\n",
      "Sat-Fi Voice :-----------: 1,000+\n",
      "Free Wi-fi HotspoT :-----------: 50,000+\n",
      "FN Web Radio :-----------: 10+\n",
      "FNH Payment Info :-----------: 10+\n",
      "MARKET FO :-----------: 100+\n",
      "FO OP St-Nazaire :-----------: 100+\n",
      "FO SODEXO :-----------: 100+\n",
      "FO RCBT :-----------: 100+\n",
      "FO Interim :-----------: 100+\n",
      "FO PSA Sept-Fons :-----------: 100+\n",
      "FO AIRBUS TLSE :-----------: 1,000+\n",
      "FO STELIA Méaulte :-----------: 100+\n",
      "FO AIRBUS Nantes :-----------: 100+\n",
      "Firefox Focus: The privacy browser :-----------: 1,000,000+\n",
      "FP Connect :-----------: 100+\n",
      "FreedomPop Messaging Phone/SIM :-----------: 500,000+\n",
      "FP Live :-----------: 10+\n",
      "HipChat - beta version :-----------: 50,000+\n"
     ]
    }
   ],
   "source": [
    "genre_display2('COMMUNICATION')"
   ]
  },
  {
   "cell_type": "markdown",
   "metadata": {},
   "source": [
    "***\n",
    "By row-by-row examination of the above output, 'WhatsApp Messenger', Skype, Gmail, Hangouts and Google Chrome apps have over one billion installations on Google Play Store."
   ]
  },
  {
   "cell_type": "code",
   "execution_count": 353,
   "metadata": {},
   "outputs": [
    {
     "name": "stdout",
     "output_type": "stream",
     "text": [
      "YouTube :-----------: 1,000,000,000+\n",
      "All Video Downloader 2018 :-----------: 1,000,000+\n",
      "Video Downloader :-----------: 10,000,000+\n",
      "HD Video Player :-----------: 1,000,000+\n",
      "Iqiyi (for tablet) :-----------: 1,000,000+\n",
      "Video Player All Format :-----------: 10,000,000+\n",
      "Motorola Gallery :-----------: 100,000,000+\n",
      "Free TV series :-----------: 100,000+\n",
      "Video Player All Format for Android :-----------: 500,000+\n",
      "VLC for Android :-----------: 100,000,000+\n",
      "Code :-----------: 10,000,000+\n",
      "Vote for :-----------: 50,000,000+\n",
      "XX HD Video downloader-Free Video Downloader :-----------: 1,000,000+\n",
      "OBJECTIVE :-----------: 1,000,000+\n",
      "Music - Mp3 Player :-----------: 10,000,000+\n",
      "HD Movie Video Player :-----------: 1,000,000+\n",
      "YouCut - Video Editor & Video Maker, No Watermark :-----------: 5,000,000+\n",
      "Video Editor,Crop Video,Movie Video,Music,Effects :-----------: 1,000,000+\n",
      "YouTube Studio :-----------: 10,000,000+\n",
      "video player for android :-----------: 10,000,000+\n",
      "Vigo Video :-----------: 50,000,000+\n",
      "Google Play Movies & TV :-----------: 1,000,000,000+\n",
      "HTC Service － DLNA :-----------: 10,000,000+\n",
      "VPlayer :-----------: 1,000,000+\n",
      "MiniMovie - Free Video and Slideshow Editor :-----------: 50,000,000+\n",
      "Samsung Video Library :-----------: 50,000,000+\n",
      "OnePlus Gallery :-----------: 1,000,000+\n",
      "LIKE – Magic Video Maker & Community :-----------: 50,000,000+\n",
      "HTC Service—Video Player :-----------: 5,000,000+\n",
      "Play Tube :-----------: 1,000,000+\n",
      "Droid Zap by Motorola :-----------: 5,000,000+\n",
      "video player :-----------: 1,000,000+\n",
      "G Guide Program Guide (SOFTBANK EMOBILE WILLCOM version) :-----------: 1,000,000+\n",
      "Video.Guru - Video Maker :-----------: 1,000,000+\n",
      "HTC Gallery :-----------: 10,000,000+\n",
      "PowerDirector Video Editor App: 4K, Slow Mo & More :-----------: 10,000,000+\n",
      "Cartoon Network App :-----------: 10,000,000+\n",
      "Video Status :-----------: 1,000,000+\n",
      "Video Wallpaper Show :-----------: 500+\n",
      "SVT Play :-----------: 1,000,000+\n",
      "BluTV :-----------: 1,000,000+\n",
      "Tencent Video - Supporting the whole network :-----------: 1,000,000+\n",
      "Casper Ssinema :-----------: 10,000+\n",
      "amazer - Global Kpop Video Community :-----------: 100,000+\n",
      "MX Player :-----------: 500,000,000+\n",
      "Video Editor :-----------: 5,000,000+\n",
      "Omlet Arcade - Stream, Meet, Play :-----------: 10,000,000+\n",
      "VUE: video editor & camcorder :-----------: 1,000,000+\n",
      "Magisto Video Editor & Maker :-----------: 10,000,000+\n",
      "Dubsmash :-----------: 100,000,000+\n",
      "DU Recorder – Screen Recorder, Video Editor, Live :-----------: 50,000,000+\n",
      "KineMaster – Pro Video Editor :-----------: 50,000,000+\n",
      "Mobizen Screen Recorder for SAMSUNG :-----------: 10,000,000+\n",
      "Mobizen Screen Recorder for LG - Record, Capture :-----------: 1,000,000+\n",
      "M-Sight Pro :-----------: 5,000+\n",
      "Sketch 'n' go :-----------: 100,000+\n",
      "Q-See Plus :-----------: 5,000+\n",
      "Ustream :-----------: 10,000,000+\n",
      "VMate :-----------: 50,000,000+\n",
      "All Video Downloader :-----------: 10,000,000+\n",
      "VidPlay :-----------: 1,000,000+\n",
      "HD Video Downloader : 2018 Best video mate :-----------: 50,000,000+\n",
      "VivaVideo - Video Editor & Photo Movie :-----------: 100,000,000+\n",
      "VideoShow-Video Editor, Video Maker, Beauty Camera :-----------: 100,000,000+\n",
      "W Box VMS :-----------: 10,000+\n",
      "W Box VMS HD :-----------: 5,000+\n",
      "AB Repeat Player :-----------: 100,000+\n",
      "A-B repeater :-----------: 5,000+\n",
      "Ez Screen Recorder (no ad) :-----------: 100,000+\n",
      "Adobe Premiere Clip :-----------: 5,000,000+\n",
      "FilmoraGo - Free Video Editor :-----------: 10,000,000+\n",
      "ActionDirector Video Editor - Edit Videos Fast :-----------: 5,000,000+\n",
      "AJ Player :-----------: 100+\n",
      "AK Lodi Films :-----------: 100+\n",
      "WiFi Baby Monitor - NannyCam :-----------: 5,000,000+\n",
      "Ringdroid :-----------: 50,000,000+\n",
      "Multiple Videos at Same Time :-----------: 1,000,000+\n",
      "AV-IPTV :-----------: 1,000+\n",
      "HD Video Player (wmv,avi,mp4,flv,av,mpg,mkv)2017 :-----------: 10,000+\n",
      "HD Video Player - Video & MP3 Player | AV Player | :-----------: 5,000+\n",
      "EML UPnP-AV Control Point :-----------: 10,000+\n",
      "AW Screen Recorder No Root :-----------: 100,000+\n",
      "AX Player -Nougat Video Player :-----------: 1,000,000+\n",
      "AX Video Player :-----------: 50,000+\n",
      "Ay :-----------: 5,000+\n",
      "Ay Sabz Gunbad Waly :-----------: 1,000+\n",
      "iMediaShare – Photos & Music :-----------: 10,000,000+\n",
      "AZ Screen Recorder - No Root :-----------: 10,000,000+\n",
      "Movie Downloader Torrent : Az Torrent :-----------: 1,000+\n",
      "A-Z Screen Recorder - :-----------: 500+\n",
      "BC iptv player :-----------: 1,000+\n",
      "Bc Vod :-----------: 100+\n",
      "Funny videos for whatsapp :-----------: 1,000,000+\n",
      "BG video - floating video - background video :-----------: 5,000+\n",
      "BG MUSIC PLAYER - MUSIC PLAYER :-----------: 100+\n",
      "bgtime.tv :-----------: 50,000+\n",
      "YourTube Video Views BG :-----------: 500+\n",
      "Music for Youtube - Tube Music BG, Red+ :-----------: 1,000+\n",
      "BGCN TV :-----------: 100,000+\n",
      "AfreecaTV :-----------: 10,000,000+\n",
      "BK News Channel :-----------: 10,000+\n",
      "BR Video Player :-----------: 5,000+\n",
      "BR Series :-----------: 50,000+\n",
      "CINE BR :-----------: 1,000+\n",
      "iPlayIT for YouTube VR Player :-----------: 1,000,000+\n",
      "BSPlayer FREE :-----------: 10,000,000+\n",
      "BSPlayer ARMv7 VFP CPU support :-----------: 1,000,000+\n",
      "BS player remote :-----------: 10,000+\n",
      "BitTorrent®- Torrent Downloads :-----------: 10,000,000+\n",
      "Bx-WiFi-GI :-----------: 100+\n",
      "BZ Langenthaler Tagblatt :-----------: 1,000+\n",
      "Nero AirBurn :-----------: 100,000+\n",
      "CI Stream :-----------: 10+\n",
      "CJ Camcorder :-----------: 500+\n",
      "CJ VLC HD Remote (+ Stream) :-----------: 500,000+\n",
      "ACTIVEON CX & CX GOLD :-----------: 50,000+\n",
      "CX Monthly Tech News :-----------: 500+\n",
      "DG UPnP Player Free :-----------: 10,000+\n",
      "DG Screen Recorder :-----------: 500+\n",
      "DG Video Editor :-----------: 10,000+\n",
      "Video Downloader - for Instagram Repost App :-----------: 10,000,000+\n",
      "Quik – Free Video Editor for photos, clips, music :-----------: 10,000,000+\n",
      "FrostWire: Torrent Downloader & Music Player :-----------: 10,000,000+\n",
      "Inst Download - Video & Photo :-----------: 10,000,000+\n",
      "Vuze Torrent Downloader :-----------: 1,000,000+\n",
      "AndStream - Streaming Download :-----------: 1,000,000+\n",
      "DR TV :-----------: 500,000+\n",
      "DS photo :-----------: 1,000,000+\n",
      "DS video :-----------: 1,000,000+\n",
      "DU Privacy-hide apps、sms、file :-----------: 1,000,000+\n",
      "iSmart DV :-----------: 1,000,000+\n",
      "dv Prompter :-----------: 50,000+\n",
      "DV Lottery Photo :-----------: 5,000+\n",
      "MelifeCam-M :-----------: 10,000+\n",
      "GoPlus Cam :-----------: 500,000+\n",
      "GoAction :-----------: 100,000+\n",
      "4K VIDEO PLAYER ULTRA HD :-----------: 5,000+\n",
      "Downvids Helper - One touch DW :-----------: 10,000+\n",
      "DZ Popup Video Player :-----------: 5,000+\n",
      "EC MANAGER :-----------: 100+\n",
      "EF Sidekick :-----------: 5,000+\n",
      "ek tuhi :-----------: 10,000+\n",
      "Naruto Shippuden - Watch Free! :-----------: 10,000,000+\n",
      "ES Audio Player ( Shortcut ) :-----------: 100,000+\n",
      "Furrion ES Control :-----------: 5,000+\n",
      "ES-IPTV :-----------: 50,000+\n",
      "EZCast – Cast Media to TV :-----------: 1,000,000+\n",
      "EZ Web Video Cast | Chromecast :-----------: 100,000+\n",
      "EZ-SEE :-----------: 10,000+\n",
      "EZ TV Player :-----------: 10,000+\n",
      "EZ Usenet for Easynews® :-----------: 10,000+\n",
      "EZ game screen recorder with audio 1080P :-----------: 1,000+\n",
      "Videos downloader for Facebook:fast fb video saver :-----------: 5,000+\n",
      "Video Downloader for FB : Video Download with Link :-----------: 100,000+\n",
      "HD VideoDownlaoder For Fb : XXVideo Downloader :-----------: 10,000+\n",
      "HD Video Download for Facebook :-----------: 1,000,000+\n",
      "Art of F J Taylor :-----------: 10+\n",
      "Motorola FM Radio :-----------: 100,000,000+\n",
      "List iptv FR :-----------: 100+\n"
     ]
    }
   ],
   "source": [
    "genre_display2('VIDEO_PLAYERS')"
   ]
  },
  {
   "cell_type": "markdown",
   "metadata": {},
   "source": [
    "***\n",
    "By row-by-row examination of the above output, YouTube app has over one billion installations and MX Player has more than 500 Million installations on Google Play Store."
   ]
  },
  {
   "cell_type": "code",
   "execution_count": 354,
   "metadata": {},
   "outputs": [
    {
     "name": "stdout",
     "output_type": "stream",
     "text": [
      "Facebook :-----------: 1,000,000,000+\n",
      "Facebook Lite :-----------: 500,000,000+\n",
      "Tumblr :-----------: 100,000,000+\n",
      "Social network all in one 2018 :-----------: 100,000+\n",
      "Pinterest :-----------: 100,000,000+\n",
      "TextNow - free text + calls :-----------: 10,000,000+\n",
      "Google+ :-----------: 1,000,000,000+\n",
      "The Messenger App :-----------: 1,000,000+\n",
      "Messenger Pro :-----------: 1,000,000+\n",
      "Free Messages, Video, Chat,Text for Messenger Plus :-----------: 1,000,000+\n",
      "Telegram X :-----------: 5,000,000+\n",
      "The Video Messenger App :-----------: 100,000+\n",
      "Jodel - The Hyperlocal App :-----------: 1,000,000+\n",
      "Hide Something - Photo, Video :-----------: 5,000,000+\n",
      "Love Sticker :-----------: 1,000,000+\n",
      "Web Browser & Fast Explorer :-----------: 5,000,000+\n",
      "LiveMe - Video chat, new friends, and make money :-----------: 10,000,000+\n",
      "VidStatus app - Status Videos & Status Downloader :-----------: 5,000,000+\n",
      "Love Images :-----------: 1,000,000+\n",
      "Web Browser ( Fast & Secure Web Explorer) :-----------: 500,000+\n",
      "SPARK - Live random video chat & meet new people :-----------: 5,000,000+\n",
      "Golden telegram :-----------: 50,000+\n",
      "Facebook Local :-----------: 1,000,000+\n",
      "Meet – Talk to Strangers Using Random Video Chat :-----------: 5,000,000+\n",
      "MobilePatrol Public Safety App :-----------: 1,000,000+\n",
      "💘 WhatsLov: Smileys of love, stickers and GIF :-----------: 1,000,000+\n",
      "HTC Social Plugin - Facebook :-----------: 10,000,000+\n",
      "Quora :-----------: 10,000,000+\n",
      "Kate Mobile for VK :-----------: 10,000,000+\n",
      "Family GPS tracker KidControl + GPS by SMS Locator :-----------: 1,000,000+\n",
      "Moment :-----------: 1,000,000+\n",
      "Text Me: Text Free, Call Free, Second Phone Number :-----------: 10,000,000+\n",
      "Text Free: WiFi Calling App :-----------: 5,000,000+\n",
      "Badoo - Free Chat & Dating App :-----------: 100,000,000+\n",
      "Text free - Free Text + Call :-----------: 10,000,000+\n",
      "Tango - Live Video Broadcast :-----------: 100,000,000+\n",
      "ooVoo Video Calls, Messaging & Stories :-----------: 50,000,000+\n",
      "Whisper :-----------: 5,000,000+\n",
      "Blogger :-----------: 5,000,000+\n",
      "Bloglovin' :-----------: 500,000+\n",
      "Blogaway for Android (Blogger) :-----------: 100,000+\n",
      "Instagram :-----------: 1,000,000,000+\n",
      "TwitCasting Live :-----------: 1,000,000+\n",
      "Stream - Live Video Community :-----------: 500,000+\n",
      "YouNow: Live Stream Video Chat :-----------: 10,000,000+\n",
      "Mirrativ: Live Stream Any App :-----------: 500,000+\n",
      "Snapchat :-----------: 500,000,000+\n",
      "Banjo :-----------: 1,000,000+\n",
      "We Heart It :-----------: 10,000,000+\n",
      "MeetMe: Chat & Meet New People :-----------: 50,000,000+\n",
      "Timehop :-----------: 5,000,000+\n",
      "Frontback - Social Photos :-----------: 1,000,000+\n",
      "LinkedIn :-----------: 100,000,000+\n",
      "Path :-----------: 10,000,000+\n",
      "SayHi Chat, Meet New People :-----------: 10,000,000+\n",
      "Tapatalk - 100,000+ Forums :-----------: 10,000,000+\n",
      "Couple - Relationship App :-----------: 1,000,000+\n",
      "Nextdoor - Local neighborhood news & classifieds :-----------: 5,000,000+\n",
      "LOVOO :-----------: 10,000,000+\n",
      "Jaumo Dating, Flirt & Live Video :-----------: 10,000,000+\n",
      "Patook - make platonic friends :-----------: 100,000+\n",
      "Zello PTT Walkie Talkie :-----------: 50,000,000+\n",
      "textPlus: Free Text & Calls :-----------: 10,000,000+\n",
      "magicApp Calling & Messaging :-----------: 10,000,000+\n",
      "Dating App, Flirt & Chat : W-Match :-----------: 10,000,000+\n",
      "uCiC- Videos and Photos on demand :-----------: 100,000+\n",
      "Meetup :-----------: 5,000,000+\n",
      "POF Free Dating App :-----------: 50,000,000+\n",
      "Tagged - Meet, Chat & Dating :-----------: 10,000,000+\n",
      "SKOUT - Meet, Chat, Go Live :-----------: 50,000,000+\n",
      "Mico- Stranger Chat Random video Chat, Live, Meet :-----------: 10,000,000+\n",
      "Waplog - Free Chat, Dating App, Meet Singles :-----------: 10,000,000+\n",
      "Tik Tok - including musical.ly :-----------: 100,000,000+\n",
      "B-Messenger Video Chat :-----------: 1,000,000+\n",
      "BIGO LIVE - Live Stream :-----------: 100,000,000+\n",
      "Greeting Cards & Wishes :-----------: 500,000+\n",
      "Share G - Images Sharing - Wallpapers App :-----------: 10,000+\n",
      "H letter images :-----------: 1,000+\n",
      "Instachat 😜 :-----------: 5,000,000+\n",
      "Fame Boom for Real Followers, Likes :-----------: 5,000,000+\n",
      "FollowMeter for Instagram :-----------: 1,000,000+\n",
      "Mali J :-----------: 10,000+\n",
      "KDRAMA Amino for K-Drama Fans :-----------: 100,000+\n",
      "KPOP Amino for K-Pop Entertainment :-----------: 100,000+\n",
      "EXO-L Amino for EXO Fans :-----------: 50,000+\n",
      "Verdad o Reto :-----------: 500,000+\n",
      "pixiv :-----------: 1,000,000+\n",
      "Join R, Community Engagement :-----------: 1,000+\n",
      "U LIVE – Video Chat & Stream :-----------: 1,000,000+\n",
      "See U - Random video chat, video chat :-----------: 100,000+\n",
      "What U See :-----------: 100,000+\n",
      "U-Report :-----------: 10,000+\n",
      "Meet U - Get Friends for Snapchat, Kik & Instagram :-----------: 100,000+\n",
      "VMate Lite - Funny Short Videos Social Network :-----------: 1,000,000+\n",
      "V Bucks ProTips New :-----------: 1,000+\n",
      "i-share AF/KLM (AFKL ishare) :-----------: 100+\n",
      "Eternal Light AG :-----------: 100+\n",
      "Message AI - Write Better Messages (Free) :-----------: 100+\n",
      "Jamaa Amino for Animal Jam :-----------: 10,000+\n",
      "Legend - Animate Text in Video :-----------: 10,000,000+\n",
      "GUYZ - Gay Chat & Gay Dating :-----------: 1,000,000+\n",
      "eChallan Andhra Pradesh (AP) :-----------: 1,000+\n",
      "Snaappy – 3D fun AR core communication platform :-----------: 1,000,000+\n",
      "Undertale AU Amino :-----------: 50,000+\n",
      "Au Pair :-----------: 10,000+\n",
      "Media Sosial TNI AU :-----------: 1,000+\n",
      "BA 3 Banjarmasin :-----------: 10+\n",
      "iCard BD Plus :-----------: 500+\n",
      "Movement BE :-----------: 100+\n",
      "YAY - TBH :-----------: 100,000+\n",
      "Find My Friends :-----------: 10,000,000+\n",
      "BG LINKED (BGLINKED) :-----------: 1,000+\n",
      "Zdravei.BG :-----------: 1,000+\n",
      "BGKontakti London BG Kontakti :-----------: 500+\n",
      "BGKontakti Bayern BG Kontakti :-----------: 1,000+\n",
      "BGKontakti Vienna BG Kontakti :-----------: 1,000+\n",
      "Discípulos em BH :-----------: 100+\n",
      "BH Connect :-----------: 1+\n",
      "Gayvox - Gay Lesbian Bi Dating :-----------: 500,000+\n",
      "Grindr - Gay chat :-----------: 10,000,000+\n",
      "Lesbian Chat & Dating - SPICY :-----------: 1,000,000+\n",
      "Alumni BJ :-----------: 100+\n",
      "VK :-----------: 100,000,000+\n",
      "BK Traffic Control cum Chart :-----------: 10,000+\n",
      "Daily Murli Saar Widget :-----------: 10,000+\n",
      "Myjob@BM :-----------: 100+\n",
      "bm-Events :-----------: 10+\n",
      "BOO! - Next Generation Messenger :-----------: 1,000,000+\n",
      "Wishbone - Compare Anything :-----------: 1,000,000+\n",
      "BR Chat Bot :-----------: 1,000+\n",
      "Br Browser :-----------: 500+\n",
      "Dr B R Ambedkar (Jai Bhim) :-----------: 100,000+\n",
      "Dr. B.R.Ambedkar :-----------: 100,000+\n",
      "Black Social :-----------: 1,000+\n",
      "BT Communicator :-----------: 10,000+\n",
      "BT Dating -Find your match, help cupid, be social :-----------: 50,000+\n",
      "Fiesta by Tango - Find, Meet and Make New Friends :-----------: 1,000,000+\n",
      "Evasion.bz :-----------: 100+\n",
      "CB Heroes :-----------: 5+\n",
      "CG Districts :-----------: 1,000+\n",
      "Digi-TV.ch :-----------: 10,000+\n",
      "Students.ch :-----------: 1,000+\n",
      "CJ Gospel Hour :-----------: 100+\n",
      "Pekalongan CJ :-----------: 0+\n",
      "Hashtags For Likes.co :-----------: 50,000+\n",
      "CP Dialer :-----------: 50,000+\n",
      "C.P. CERVANTES (TOBARRA) :-----------: 5+\n",
      "Cyprus Police :-----------: 10,000+\n",
      "Rande.cz :-----------: 50,000+\n",
      "signály.cz :-----------: 1,000+\n",
      "DB Event App :-----------: 5,000+\n",
      "DC Comics Amino :-----------: 1,000+\n",
      "DF BugMeNot :-----------: 500+\n",
      "Noticias DF :-----------: 1,000+\n",
      "Periscope - Live Video :-----------: 10,000,000+\n",
      "Daddyhunt: Gay Dating :-----------: 500,000+\n",
      "Free phone calls, free texting SMS on free number :-----------: 10,000,000+\n",
      "Phone Tracker : Family Locator :-----------: 10,000,000+\n",
      "HOLLA Live: Meet New People via Random Video Chat :-----------: 5,000,000+\n",
      "Dating.dk :-----------: 100,000+\n",
      "DK Murali :-----------: 500+\n",
      "GirlTalk.dk :-----------: 100+\n",
      "+Download 4 Instagram Twitter :-----------: 1,000,000+\n",
      "DM Me - Chat :-----------: 10,000+\n",
      "DM for IG 😘 - Image & Video Saver for Instagram :-----------: 5,000+\n",
      "Auto DM for Twitter 🔥 :-----------: 1,000+\n",
      "DM Storage (for twitter) :-----------: 100+\n",
      "Fake Chat (Direct Message) :-----------: 500,000+\n",
      "Otto DM :-----------: 10+\n",
      "DN Blog :-----------: 10+\n",
      "DP and Status for WhatsApp 2018 :-----------: 100,000+\n",
      "Dp For Whatsapp :-----------: 5,000+\n",
      "Profile Pictures and DP for Whatsapp :-----------: 5,000+\n",
      "Dp for Facebook :-----------: 5,000+\n",
      "Best DP and Status :-----------: 10,000+\n",
      "Instant DP Downloader for Instagram :-----------: 5,000+\n",
      "DP Display Pictures Life Quotes Motivational GM :-----------: 5,000+\n",
      "Qeek for Instagram - Zoom profile insta DP :-----------: 500,000+\n",
      "DV Statistics :-----------: 100+\n",
      "DW Streaming :-----------: 1,000+\n",
      "News Dz :-----------: 10+\n",
      "quran-DZ :-----------: 10+\n",
      "TN e Sevai TN EB Bill Patta Citta EC Birth All Hub :-----------: 5,000+\n",
      "TNEB Bill Online Payment (Tamil) :-----------: 5,000+\n",
      "UP EB Bill Payment & Details :-----------: 50+\n",
      "TN EC Online New :-----------: 1,000+\n",
      "TN Patta /Chitta /EC New :-----------: 100+\n",
      "EG Way Life :-----------: 50+\n",
      "Equestria Amino for MLP :-----------: 50,000+\n",
      "Ek Maratha :-----------: 10,000+\n",
      "Hum Ek Hain 2.02 :-----------: 10+\n",
      "Sabka Malik Ek Sai :-----------: 1,000+\n",
      "EO RAIPUR :-----------: 10+\n",
      "Anime et Manga Amino en Français :-----------: 50,000+\n",
      "Hornet - Gay Social Network :-----------: 5,000,000+\n",
      "Amino: Communities and Chats :-----------: 10,000,000+\n",
      "European Solidarity Corps :-----------: 1,000+\n",
      "Reisedealz.eu :-----------: 10+\n",
      "Eddsworld Amino :-----------: 10,000+\n",
      "Rejoin Your Ex :-----------: 100+\n",
      "Amleen Ey :-----------: 1+\n",
      "Coupe Adhémar EY 2017 :-----------: 50+\n",
      "EZ Video Download for Facebook :-----------: 1,000,000+\n",
      "Messages, Text and Video Chat for Messenger :-----------: 10,000,000+\n",
      "All Social Networks :-----------: 1,000,000+\n",
      "Messenger Messenger :-----------: 10,000,000+\n",
      "Facebook Creator :-----------: 1,000,000+\n",
      "Swift for Facebook Lite :-----------: 500,000+\n",
      "Friendly for Facebook :-----------: 1,000,000+\n",
      "Faster for Facebook Lite :-----------: 1,000,000+\n",
      "Puffin for Facebook :-----------: 500,000+\n",
      "Profile Tracker - Who Viewed My Facebook Profile :-----------: 500,000+\n",
      "Pink Color for Facebook :-----------: 500,000+\n",
      "Messenger :-----------: 10,000,000+\n",
      "Stickers for Imo, fb, whatsapp :-----------: 10,000+\n",
      "Who Viewed My Facebook Profile - Stalkers Visitors :-----------: 5,000,000+\n",
      "Downloader plus for FB :-----------: 500+\n",
      "MB Notifications for FB (Free) :-----------: 100,000+\n",
      "Phoenix - Facebook & Messenger :-----------: 100,000+\n",
      "Faster Social for Facebook :-----------: 100,000+\n",
      "Check Your Visitors on FB ? :-----------: 5,000+\n",
      "Stickers for Facebook :-----------: 1,000,000+\n",
      "Lite Messenger for Facebook Lite :-----------: 10,000+\n",
      "Mini for Facebook lite :-----------: 10,000+\n",
      "FB Advanced Search :-----------: 50+\n",
      "funny Image Comments for FB :-----------: 5,000+\n",
      "Unlimited Group Links - Whatsapp, FB, Telegram :-----------: 10,000+\n",
      "FCB Connect - FC Barcelona :-----------: 50,000+\n",
      "Frases Cristianas de Esperanza y Fe :-----------: 100+\n",
      "FutureNet your social app :-----------: 100,000+\n",
      "Alarm.fo – choose your info :-----------: 1,000+\n",
      "FunForMobile Ringtones & Chat :-----------: 5,000,000+\n",
      "Chat For Strangers - Video Chat :-----------: 100,000+\n",
      "Fr Daoud Lamei :-----------: 100,000+\n",
      "Naruto & Boruto FR :-----------: 100+\n",
      "Frim: get new friends on local chat rooms :-----------: 5,000,000+\n"
     ]
    }
   ],
   "source": [
    "genre_display2('SOCIAL')"
   ]
  },
  {
   "cell_type": "markdown",
   "metadata": {},
   "source": [
    "***\n",
    "By row-by-row examination of the above output, Facebook & Google+ apps have over one billion installations on Google Play Store."
   ]
  },
  {
   "cell_type": "markdown",
   "metadata": {},
   "source": [
    "***\n",
    "***In summary from the analysis, the following free english apps attracted more users on Google Store:***\n",
    "1. Whatsapp Messenger\n",
    "2. Skype\n",
    "3. Gmail\n",
    "4. Hangout\n",
    "5. Google Chrome\n",
    "6. Youtube\n",
    "7. MX Player\n",
    "8. Facebook\n",
    "9. Google+\n"
   ]
  },
  {
   "cell_type": "markdown",
   "metadata": {},
   "source": [
    "***\n",
    "***\n",
    "## Conclusions <a name=\"conclusion\"></a>"
   ]
  },
  {
   "cell_type": "markdown",
   "metadata": {},
   "source": [
    "In this project, data from Apple Store and Google Play Store mobile apps were analysed with the goal of recommending an app profile that can be profitable for both markets. \n",
    "The step implemented in achieving this goal is to find the most popular apps by genre on Apple Store and Google Play Store. \n",
    "\n",
    "From the analysis, on Apple Store we observe that Navigation, Reference, Social networking and Music genres attract more users. While on Google Play Store, the following genres which are Communication, Video Player and Social genres attract more users as well.\n",
    "\n",
    "Designing an app that would attract users on both platforms, we need to put together the features of the most user attracting apps by genre on Apple and Google Play store. \n",
    "By doing so, I would recommend the developers to design an eBook Reader app that has the following features:\n",
    "1. Ability to play the audio version of any eBook uploaded on the reader\n",
    "2. Ability to visualize the concept, ideas or message from each chapter in comic/illustated form though the video version of the eBook reader.\n",
    "3. A dashboard for all readers where they can be able to track their reading progress, add new friends.\n",
    "4. A chat forum where potential readers can meet, discuss and share ideas.\n",
    "\n",
    "These features were put together from Reference, Music, Video Player and Social genres respectively; which are the most user attracting genres on both Apple and Google Play store."
   ]
  },
  {
   "cell_type": "markdown",
   "metadata": {},
   "source": [
    "***\n",
    "***\n",
    "## Limitations <a name=\"limitation\"></a>"
   ]
  },
  {
   "cell_type": "markdown",
   "metadata": {},
   "source": [
    "This Mobile App Data project is cleaned and analysed without importing external libraries like Pandas and Matplotlib."
   ]
  },
  {
   "cell_type": "markdown",
   "metadata": {},
   "source": [
    "***\n",
    "***\n",
    "***\n",
    "[Back to Table of Content](#begin)"
   ]
  },
  {
   "cell_type": "code",
   "execution_count": null,
   "metadata": {},
   "outputs": [],
   "source": []
  }
 ],
 "metadata": {
  "kernelspec": {
   "display_name": "Python 3 (ipykernel)",
   "language": "python",
   "name": "python3"
  },
  "language_info": {
   "codemirror_mode": {
    "name": "ipython",
    "version": 3
   },
   "file_extension": ".py",
   "mimetype": "text/x-python",
   "name": "python",
   "nbconvert_exporter": "python",
   "pygments_lexer": "ipython3",
   "version": "3.11.3"
  }
 },
 "nbformat": 4,
 "nbformat_minor": 1
}
